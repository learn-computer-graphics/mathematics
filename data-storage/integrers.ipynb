{
 "cells": [
  {
   "cell_type": "markdown",
   "execution_count": null,
   "metadata": {},
   "outputs": [],
   "source": [
    "# Integrers\n",
    "\n",
    "> How are they stored inside of your computers\n",
    "\n",
    "\n",
    "## I - Representation in computers\n",
    "\n",
    "Real values are stored in binary format, with only zeros and ones.\n",
    "\n",
    "### A) Binary to decimal\n",
    "\n",
    "For example, the number `1011`\n",
    "\n",
    "| 1 | - | 0 | - | 1 | -  | 1 | *(base 2)* |\n",
    "| --- | --- | --- | --- | --- | --- | --- | --: |\n",
    "| $ 1 \\times 2^3$ | + | $ 0 \\times 2^2 $ | + | $ 1 \\times 2^1 $ | + | $ 1 \\times 2^0 $ | *(base 10)* |\n",
    "| $ 1 \\times 8 $ | + | $ 0 \\times 4 $ | + | $ 1 \\times 2 $ | + | $ 1 \\times 1 $ | *(base 10)* |\n",
    "| $ 8 $ | + | $ 0 $ | + | $ 2 $ | + | $ 1 $ | *(base 10)* |\n",
    "\n",
    "$$ = 11 $$\n",
    "\n",
    "**General formula**\n",
    "\n",
    "$$\n",
    "x = \\sum_{i=0}^{m} a_i 2^{m-i}\n",
    "$$\n"
   ]
  },
  {
   "cell_type": "code",
   "execution_count": 1,
   "metadata": {},
   "outputs": [
    {
     "name": "stdout",
     "output_type": "stream",
     "text": "Decimal representation of 1011 is : 11\n"
    }
   ],
   "source": [
    "def binaryToDecimal(number: int) -> int:\n",
    "    array = [int(x) for x in str(number)]\n",
    "    x = 0\n",
    "    for i, a in enumerate(array):\n",
    "        x += a * pow(2, (len(array) - 1) - i)\n",
    "    return x\n",
    "\n",
    "a: int = 1011\n",
    "# print(\"Enter a binary value\")\n",
    "# a = input()\n",
    "\n",
    "print(\"Decimal representation of \" +  str(a) + \" is : \" + str(binaryToDecimal(a)))\n",
    "    "
   ]
  },
  {
   "cell_type": "markdown",
   "execution_count": null,
   "metadata": {},
   "outputs": [],
   "source": [
    "## II - Binary operations\n",
    "\n",
    "TODO addition, division etc, binary operators, bits decals, fast power of two\n",
    "\n"
   ]
  },
  {
   "cell_type": "code",
   "execution_count": null,
   "metadata": {},
   "outputs": [],
   "source": [
    "print(\"hello world\")"
   ]
  }
 ],
 "metadata": {
  "kernelspec": {
   "display_name": "Python 3.7.1 64-bit ('base': conda)",
   "language": "python",
   "name": "python37164bitbaseconda197d474d52a245bfb73057d2e0ecd512"
  },
  "language_info": {
   "codemirror_mode": {
    "name": "ipython",
    "version": 3
   },
   "file_extension": ".py",
   "mimetype": "text/x-python",
   "name": "python",
   "nbconvert_exporter": "python",
   "pygments_lexer": "ipython3",
   "version": "3.7.1-final"
  }
 },
 "nbformat": 4,
 "nbformat_minor": 2
}