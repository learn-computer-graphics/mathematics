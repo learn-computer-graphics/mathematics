{
 "cells": [
  {
   "cell_type": "markdown",
   "execution_count": 1,
   "metadata": {},
   "outputs": [],
   "source": [
    "# Floating points\n",
    "\n",
    "> How they are stored inside computers, what are their limits and how to use them wisely\n",
    "\n",
    "___\n",
    "\n",
    "## I - Decomposition\n",
    "\n",
    "___\n",
    "\n",
    "## II - Binary representation (IEEE 754)\n",
    "\n",
    "### A) Theory\n",
    "\n",
    "### B) Examples\n",
    "\n",
    "#### 1 representation\n",
    "\n",
    "Sign (1) | Exposant (8) | Mantiss (23)\n",
    "--- | --- | ---\n",
    "0 | 0111 1111 | 0000 0000 0000 0000 0000 000\n",
    "Positive | 127 | 0\n",
    "\n",
    "$$ \n",
    "2^{127 - 127} = 2^0 \\\\\n",
    "x = 2^0 + 0 = 1\n",
    "$$\n",
    "\n",
    "#### 3.5 representation\n",
    "\n",
    "Sign (1) | Exposant (8) | Mantiss (23)\n",
    "--- | --- | ---\n",
    "0 | 1000 0000 | 1100 0000 0000 0000 0000 000\n",
    "Positive | 128 | $ 2^0 + 2^{-1} $\n",
    "\n",
    "$$ \n",
    "2^{128 - 127} = 2^1 \\\\\n",
    "x = 2^1 + 2^0 + 2^{-1} = 3.5\n",
    "$$\n",
    "\n",
    "___\n",
    "\n",
    "## III - Rounding problems\n",
    "\n",
    "Operations works better when dealing with number of the same sizes. If the step is too big, like adding 0.000000000001 with 100.2, you will have imprecision.\n",
    "\n",
    "Try to add the smaller elements first so that they grow bigger. Do your operations from smaller to bigger.\n",
    "\n",
    "Soustraction is the most dangerous operation for floats\n",
    "\n"
   ]
  },
  {
   "cell_type": "code",
   "execution_count": null,
   "metadata": {},
   "outputs": [],
   "source": []
  }
 ],
 "metadata": {
  "kernelspec": {
   "display_name": "Python 3.7.1 64-bit ('base': conda)",
   "language": "python",
   "name": "python37164bitbaseconda197d474d52a245bfb73057d2e0ecd512"
  },
  "language_info": {
   "codemirror_mode": {
    "name": "ipython",
    "version": 3
   },
   "file_extension": ".py",
   "mimetype": "text/x-python",
   "name": "python",
   "nbconvert_exporter": "python",
   "pygments_lexer": "ipython3",
   "version": "3.7.1-final"
  }
 },
 "nbformat": 4,
 "nbformat_minor": 2
}