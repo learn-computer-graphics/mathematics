{
 "cells": [
  {
   "cell_type": "markdown",
   "metadata": {},
   "source": [
    "# Numerical derivative"
   ]
  },
  {
   "cell_type": "markdown",
   "metadata": {},
   "source": [
    "> Given a function $f$, we want to estimate the derivative $f'$ of $f$ at a point $x$ which is not explicitly known.\n",
    "\n",
    "\n",
    "## Table of Contents\n",
    "\n",
    "[**Introduction**](#Introduction)\n",
    "\n",
    "[**I - Derivative calculation**](#Derivative-calculation)\n",
    "\n",
    "[**II - Error estimation**](#Error-estimation)\n",
    "\n",
    "[**III - Partial derivative**](#Partial-derivative)\n",
    "\n",
    "[**Conclusion**](#Conclusion)\n",
    "\n",
    "[**Sources**](#-Sources)"
   ]
  },
  {
   "cell_type": "markdown",
   "metadata": {},
   "source": [
    "## Introduction\n",
    "\n",
    "Derivative are used everywhere. What we're most interested in is :\n",
    "- Physical systems resolution\n",
    "- Image or signal processing\n",
    "\n",
    "The numerical derivation will allow us to find an approximation of the derivative using only a discrete set of points, and we will be interested in error estimates."
   ]
  },
  {
   "cell_type": "markdown",
   "metadata": {},
   "source": [
    "## I - Derivative calculation\n",
    "\n",
    "Initially, a derivative has the format : \n",
    "$$f_0(x_0) = \\lim_{x \\to x_0}\\frac{f(x) − f(x_0)}{x − x_0}$$\n",
    "\n",
    "We can see that a part of the equation looks like the slope : \n",
    "$$\\frac{f(x_B) − f(x_A)}{x_B − x_A}$$\n",
    "\n",
    "If we have the expression of the function, we can derive it by using formal methods of calculation and if we don't have it, we can **estimate** it.\n",
    "\n",
    "The formula above is equivalent to : \n",
    "$$f_0(x_0) = \\lim_{\\Delta x \\to 0}\\frac{f(x_0 + \\Delta x) − f(x_0)}{\\Delta x}$$"
   ]
  },
  {
   "cell_type": "markdown",
   "metadata": {},
   "source": [
    "## II - Error estimation"
   ]
  },
  {
   "cell_type": "markdown",
   "metadata": {},
   "source": [
    "## III - Partial derivative"
   ]
  },
  {
   "cell_type": "markdown",
   "metadata": {},
   "source": [
    "## Conclusion"
   ]
  },
  {
   "cell_type": "markdown",
   "metadata": {},
   "source": [
    "## 📖 Sources\n",
    "\n",
    "### Websites\n"
   ]
  },
  {
   "cell_type": "code",
   "execution_count": null,
   "metadata": {},
   "outputs": [],
   "source": []
  }
 ],
 "metadata": {
  "file_extension": ".py",
  "kernelspec": {
   "display_name": "Python 3",
   "language": "python",
   "name": "python3"
  },
  "language_info": {
   "codemirror_mode": {
    "name": "ipython",
    "version": 3
   },
   "file_extension": ".py",
   "mimetype": "text/x-python",
   "name": "python",
   "nbconvert_exporter": "python",
   "pygments_lexer": "ipython3",
   "version": "3.7.1"
  },
  "mimetype": "text/x-python",
  "name": "python",
  "npconvert_exporter": "python",
  "pygments_lexer": "ipython3",
  "version": 3
 },
 "nbformat": 4,
 "nbformat_minor": 2
}
