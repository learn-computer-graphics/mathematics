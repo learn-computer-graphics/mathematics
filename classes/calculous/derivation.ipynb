{
 "cells": [
  {
   "cell_type": "markdown",
   "metadata": {},
   "source": [
    "# Numerical derivative"
   ]
  },
  {
   "cell_type": "markdown",
   "metadata": {},
   "source": [
    "> Given a function $f$, we want to estimate the derivative $f'$ of $f$ at a point $x$ which is not explicitly known.\n",
    "\n",
    "\n",
    "## Table of Contents\n",
    "\n",
    "[**Introduction**](#Introduction)\n",
    "\n",
    "[**I - Derivative calculation**](#Derivative-calculation)\n",
    "\n",
    "[**II - Error estimation**](#Error-estimation)\n",
    "\n",
    "[**III - Partial derivative**](#Partial-derivative)\n",
    "\n",
    "[**Conclusion**](#Conclusion)\n",
    "\n",
    "[**Sources**](#-Sources)"
   ]
  },
  {
   "cell_type": "markdown",
   "metadata": {},
   "source": [
    "## Introduction\n",
    "\n",
    "Derivative are used everywhere. What we're most interested in is :\n",
    "- Physical systems resolution\n",
    "- Image or signal processing\n",
    "\n",
    "The numerical derivation will allow us to find an approximation of the derivative using only a discrete set of points, and we will be interested in error estimates.\n",
    "\n",
    "Functions studied :\n",
    "- Analytical functions (functions for which we know the formula) $R → R$, continuous and derivable\n",
    "- non-analytical functions but evaluable at any point\n",
    "- a set of points representing a continuous function"
   ]
  },
  {
   "cell_type": "markdown",
   "metadata": {},
   "source": [
    "## I - Derivative calculation\n",
    "\n",
    "The derivative of a function $f(x)$ at $x = a$ is the limit\n",
    "$$f'(a) = \\lim_{h \\to 0}\\frac{f(a + h) − f(a)}{h}$$\n",
    "\n",
    "We can see that a part of the equation looks like the slope : \n",
    "$$\\frac{f(x_B) − f(x_A)}{x_B − x_A}$$\n",
    "\n",
    "If we have the expression of the function, we can derive it by using formal methods of calculation and if we don't have it, we can **estimate** it.\n",
    "\n",
    "The formula above is equivalent to : \n",
    "$$f_0(x_0) = \\lim_{\\Delta x \\to 0}\\frac{f(x_0 + \\Delta x) − f(x_0)}{\\Delta x}$$\n",
    "\n",
    "There are 3 main difference formulas for numerically approximating derivatives.\n",
    "\n",
    "The **forward difference formula** with step size $h$ :\n",
    "$$ f'(a) \\approx \\frac{f(a + h) − f(a)}{h}$$\n",
    "\n",
    "The **backward difference formula** with step size $h$ :\n",
    "\n",
    "$$ f'(a) \\approx \\frac{f(a) − f(a - h)}{h}$$\n",
    "\n",
    "The **central difference formula** with step size $h$ is the average of the forward and backwards difference formulas :\n",
    "\n",
    "$$ f'(a) \\approx \\frac{f(a + h) − f(a - h)}{2h}$$\n",
    "\n",
    "**h can also be represented as $\\Delta x$**"
   ]
  },
  {
   "cell_type": "code",
   "execution_count": null,
   "metadata": {},
   "outputs": [],
   "source": [
    "import numpy as np\n",
    "import matplotlib.pyplot as plt\n",
    "\n",
    "def derivative(f,a,method='central',h=0.01):\n",
    "    '''Compute the difference formula for f'(a) with step size h.\n",
    "\n",
    "    Parameters\n",
    "    ----------\n",
    "    f : function\n",
    "        Vectorized function of one variable\n",
    "    a : number\n",
    "        Compute derivative at x = a\n",
    "    method : string\n",
    "        Difference formula: 'forward', 'backward' or 'central'\n",
    "    h : number\n",
    "        Step size in difference formula\n",
    "\n",
    "    Returns\n",
    "    -------\n",
    "    float\n",
    "        Difference formula:\n",
    "            central: f(a+h) - f(a-h))/2h\n",
    "            forward: f(a+h) - f(a))/h\n",
    "            backward: f(a) - f(a-h))/h            \n",
    "    '''\n",
    "    if method == 'central':\n",
    "        return (f(a + h) - f(a - h))/(2*h)\n",
    "    elif method == 'forward':\n",
    "        return (f(a + h) - f(a))/h\n",
    "    elif method == 'backward':\n",
    "        return (f(a) - f(a - h))/h\n",
    "    else:\n",
    "        raise ValueError(\"Method must be 'central', 'forward' or 'backward'.\")\n",
    "\n",
    "# For example, we can check and plot here the difference between the approximation of the derivative of sinus with\n",
    "# the central method and the real value\n",
    "x = np.linspace(0,5*np.pi,100)\n",
    "dydx = derivative(np.sin,x)\n",
    "dYdx = np.cos(x)\n",
    "\n",
    "plt.figure(figsize=(12,5))\n",
    "plt.plot(x,dydx,'r.',label='Central difference')\n",
    "plt.plot(x,dYdx,'b',label='True value')\n",
    "\n",
    "plt.legend(loc='best')\n",
    "plt.show()"
   ]
  },
  {
   "cell_type": "markdown",
   "metadata": {},
   "source": [
    "## II - Error estimation\n",
    "\n",
    "In oder to estimate the error, we need to use **Taylor's theorem**.\n",
    "\n",
    "The degree $n$ Taylor polynomial of $f(x)$ at $x = a$ \n",
    "$$f(x) = f(a) + f'(a)(x − a) + \\frac{f''(a)}{2!}(x − a)^2 + ...$$"
   ]
  },
  {
   "cell_type": "markdown",
   "metadata": {},
   "source": [
    "## III - Partial derivative\n",
    "\n",
    "A Partial Derivative is a derivative where we hold some variables constant.\n",
    "\n",
    "What about a function of two variables ? ($x$ and $y$):\n",
    "\n",
    "$$f(x,y) = x^2 + y^3$$\n",
    "\n",
    "To find its partial derivative with respect to $x$ we treat $y$ as a constant\n",
    "\n",
    "$$f’_x = 2x + 0 = 2x$$\n",
    "\n",
    "We know that the derivative of $x^2$ is $2x$\n",
    "We treat $y$ as a constant, so y^3 is also a constant and the derivative of a constant is 0\n",
    "To find the partial derivative with respect to y, we treat x as a constant:\n",
    "\n",
    "$$f’_y = 0 + 3y^2 = 3y^2$$\n",
    "\n",
    "We now treat $x$ as a constant so x^2 is also a constant and the derivative of a constant is 0. The derivative of y^3 is $3y^2$\n",
    " \n",
    "Remember to treat all other variables as if they are constants."
   ]
  },
  {
   "cell_type": "markdown",
   "metadata": {},
   "source": [
    "## Conclusion"
   ]
  },
  {
   "cell_type": "markdown",
   "metadata": {},
   "source": [
    "## 📖 Sources\n",
    "\n",
    "### Websites\n"
   ]
  },
  {
   "cell_type": "code",
   "execution_count": null,
   "metadata": {},
   "outputs": [],
   "source": []
  }
 ],
 "metadata": {
  "file_extension": ".py",
  "kernelspec": {
   "display_name": "Python 3",
   "language": "python",
   "name": "python3"
  },
  "language_info": {
   "codemirror_mode": {
    "name": "ipython",
    "version": 3
   },
   "file_extension": ".py",
   "mimetype": "text/x-python",
   "name": "python",
   "nbconvert_exporter": "python",
   "pygments_lexer": "ipython3",
   "version": "3.7.1"
  },
  "mimetype": "text/x-python",
  "name": "python",
  "npconvert_exporter": "python",
  "pygments_lexer": "ipython3",
  "version": 3
 },
 "nbformat": 4,
 "nbformat_minor": 2
}
