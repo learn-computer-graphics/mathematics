{
 "cells": [
  {
   "cell_type": "markdown",
   "metadata": {},
   "source": [
    "# Root finding algorithm\n",
    "\n",
    "> Where is the function crossing 0 ? How to find these points effectively ?\n",
    "\n",
    "\n",
    "## Table of Contents\n",
    "\n",
    "[**Introduction**](#Introduction)\n",
    "\n",
    "[**I - Naive method**](#I---Naive-method)\n",
    "\n",
    "[**II - Bisection**](#II---Bisection)\n",
    "\n",
    "[**III - False position**](#III---False-position)\n",
    "\n",
    "[**IV - Newton**](#IV---Newton)\n",
    "\n",
    "[**V - Secant**](#V---Secant)\n",
    "\n",
    "[**Conclusion**](#Conclusion)\n",
    "\n",
    "[**Sources**](#Sources)"
   ]
  },
  {
   "cell_type": "markdown",
   "metadata": {},
   "source": [
    "## Introduction\n",
    "\n",
    "$F(x)$ is a non linear function. We want to find points where this function reach zero if they exist. Root finding refers to the general problem of searching for a solution of an equation $F(x) = 0$."
   ]
  },
  {
   "cell_type": "markdown",
   "metadata": {},
   "source": [
    "## I - Naive method\n",
    "\n",
    "$f$ is a function:\n",
    " * continuous on $ \\mathopen{[}a\\,,b\\mathclose{]} $\n",
    " * monotonous on $ \\mathopen{[}a\\,,b\\mathclose{]} $\n",
    " * such as $f(a)f(b) < 0 $\n",
    " \n",
    "**Method :**\n",
    "- we choose a step $dx$\n",
    "- we test $f(a + k.dx)$ until $f$ changes its sign. $k$ is a positive integer"
   ]
  },
  {
   "cell_type": "code",
   "execution_count": 48,
   "metadata": {},
   "outputs": [],
   "source": [
    "## input : function f and interval [a,b] and our step is dx\n",
    "\n",
    "import math \n",
    "\n",
    "def naive():\n",
    "    x = a + dx\n",
    "    while (f(x) * f(a) > 0):\n",
    "        x = x + dx\n",
    "    return x"
   ]
  },
  {
   "cell_type": "markdown",
   "metadata": {},
   "source": [
    "**Be aware** the result is an interval $ \\mathopen{[}x - dx\\,,x\\mathclose{]} $. You can launch again the algorithm on this interval with a smaller step. \n",
    "\n",
    "It is actually a really **bad method**."
   ]
  },
  {
   "cell_type": "markdown",
   "metadata": {},
   "source": [
    "## II - Bisection"
   ]
  },
  {
   "cell_type": "markdown",
   "metadata": {},
   "source": [
    "Bisection is the simplest root finding algorithm. It can be applied to any type of continuous function $f(x)$ on the interval $ \\mathopen{[}a\\,,b\\mathclose{]} $ where the value of the function $f(x)$ changes sign from $a$ to $b$. The idea is simple: divide the interval in two, a solution must exist within one subinterval, select the subinterval where the sign of  changes and repeat.\n",
    "\n",
    "$f$ is a function:\n",
    " * continuous on $ \\mathopen{[}a\\,,b\\mathclose{]} $\n",
    " * monotonous on $ \\mathopen{[}a\\,,b\\mathclose{]} $\n",
    " * such as $f(a)f(b) < 0 $\n",
    " \n",
    "**Method :**\n",
    "\n",
    "We're looking for a small interval containing the zero.\n",
    "- We split the start interval in half\n",
    "- We keep the interval that contains the 0\n",
    "- And we do it all over again"
   ]
  },
  {
   "cell_type": "code",
   "execution_count": 56,
   "metadata": {},
   "outputs": [],
   "source": [
    "def bisection(f,a,b,N):\n",
    "    '''\n",
    "    Parameters\n",
    "    ----------\n",
    "    f : function\n",
    "        The function for which we are trying to approximate a solution f(x)=0.\n",
    "    a,b : numbers\n",
    "        The interval in which to search for a solution. The function returns\n",
    "        None if f(a)*f(b) >= 0 since a solution is not guaranteed.\n",
    "    N : (positive) integer\n",
    "        The number of iterations to implement.\n",
    "    '''\n",
    "    if f(a)*f(b) >= 0:\n",
    "        print(\"Bisection method fails.\")\n",
    "        return None\n",
    "    for i in range(1,N):\n",
    "        c = (a+b)/2\n",
    "        if(f(a) * f(c) < 0):\n",
    "            b = c\n",
    "        else:\n",
    "            a = c\n",
    "    return (a+b)/2"
   ]
  },
  {
   "cell_type": "code",
   "execution_count": 57,
   "metadata": {},
   "outputs": [
    {
     "data": {
      "text/plain": [
       "1.6180339753627777"
      ]
     },
     "execution_count": 57,
     "metadata": {},
     "output_type": "execute_result"
    }
   ],
   "source": [
    "f = lambda x: x**2 - x - 1\n",
    "bisection(f,1,2,25)"
   ]
  },
  {
   "cell_type": "markdown",
   "metadata": {},
   "source": [
    "**Note :** To obtain a 2 times higher precision, make another interation. Bisection method only used sign, not the values of the function. Bisection method is an improvement of the recursive naive method, where the step equals half the interval."
   ]
  },
  {
   "cell_type": "markdown",
   "metadata": {},
   "source": [
    "## III - False position\n",
    "\n",
    "This method is the trial and error technique of using test (\"false\") values for the variable and then adjusting the test value according to the outcome. \n",
    "\n",
    "$f$ is a function:\n",
    " * continuous on $ \\mathopen{[}a\\,,b\\mathclose{]} $\n",
    " * monotonous on $ \\mathopen{[}a\\,,b\\mathclose{]} $\n",
    " * such as $f(a)f(b) < 0 $\n",
    " \n",
    "**Method :**\n",
    "- we do a linear approximation of $f$ on $\\mathopen{[}a\\,,b\\mathclose{]}$\n",
    "  * we approximate the $f$ curve by its chord\n",
    "- we solve the linear equation\n",
    "  * we calculate the equation of the line passing through $(a, f(a)), (b, f(b))$\n",
    "  * we calculate its intersection with the abscissa axis\n",
    "- we get a new interval\n",
    "- we start again\n",
    "\n",
    "You stop when $f(c)$ is small enough"
   ]
  },
  {
   "cell_type": "code",
   "execution_count": 75,
   "metadata": {},
   "outputs": [
    {
     "name": "stdout",
     "output_type": "stream",
     "text": [
      "The value of root is :  -6.2309 with 1000 iterations\n",
      "The value of root is :  -1.0033 with 100000 iterations\n"
     ]
    }
   ],
   "source": [
    "# The function is x^3 - x^2 + 2 \n",
    "def function( x ): \n",
    "    return (x * x * x - x * x + 2) \n",
    "\n",
    "def falsePosition(a,b,N):\n",
    "    if func(a) * func(b) >= 0: \n",
    "        print(\"You have not assumed right a and b\") \n",
    "        return -1\n",
    "      \n",
    "    c = a # Initialize result \n",
    "      \n",
    "    for i in range(N): \n",
    "          \n",
    "        # Find the point that touches x axis \n",
    "        c = (a * function(b) - b * function(a))/ (function(b) - function(a)) \n",
    "          \n",
    "        # Check if the above found point is root \n",
    "        if function(c) == 0: \n",
    "            break\n",
    "          \n",
    "        # Decide the side to repeat the steps \n",
    "        elif function(c) * function(a) < 0: \n",
    "            b = c \n",
    "        else: \n",
    "            a = c \n",
    "    print(\"The value of root is : \" , '%.4f' %c, \"with\", '%i' %N ,\"iterations\")\n",
    "    \n",
    "falsePosition(-200, 300, 1000)\n",
    "falsePosition(-200, 300, 100000)"
   ]
  },
  {
   "cell_type": "markdown",
   "metadata": {},
   "source": [
    "This method can be unsuitable for some functions. The false position method is adapted to the functions whose behaviour is linear on $ \\mathopen{[}a\\,,b\\mathclose{]} $, which allows to limit $ \\mathopen{[}a\\,,b\\mathclose{]} $ more quickly than with the dichotomy method. It uses the values of $f$ (unlike the bisection)"
   ]
  },
  {
   "cell_type": "markdown",
   "metadata": {},
   "source": [
    "## IV - Newton\n",
    "\n",
    "Newton's method is a root finding method that uses **linear approximation**. In particular, we guess a solution $x_0$ of the equation $f(x)=0$, compute the linear approximation of $f(x)$ at $x_0$ and then find the $x$-intercept ($x_1$) of the linear approximation.\n",
    "\n",
    "Hypothesis : $x_0$ close to the result\n",
    "Iterative method\n",
    "\n",
    "**Method:**\n",
    "- we calculate the tangent to the point $(x_i,f(x_i))$\n",
    "\n",
    "- we calculate the intersection of the tangent with the abscissa axis\n",
    "- we get $x_{i+1}$\n",
    "- we start again\n",
    "\n",
    "**Tangent :** $$y = f'(x_0)x + y_0 - f'(x_0)x_0$$\n",
    "\n",
    "If $y_1 = 0$ and $y_0 = f(x_0)$, then\n",
    "\n",
    "$$x_1 = x_0 - \\frac{f(x_0)}{f'(x_0)}$$\n",
    "\n",
    "We stop when $f(x)$ is small enough."
   ]
  },
  {
   "cell_type": "code",
   "execution_count": 83,
   "metadata": {},
   "outputs": [
    {
     "name": "stdout",
     "output_type": "stream",
     "text": [
      "Found solution after 6 iterations.\n"
     ]
    },
    {
     "data": {
      "text/plain": [
       "1.4655712318767877"
      ]
     },
     "execution_count": 83,
     "metadata": {},
     "output_type": "execute_result"
    }
   ],
   "source": [
    "def newton(f,Df,x0,epsilon,max_iter):\n",
    "    '''Parameters\n",
    "    ----------\n",
    "    f : function\n",
    "        Function for which we are searching for a solution f(x)=0.\n",
    "    Df : function\n",
    "        Derivative of f(x).\n",
    "    x0 : number\n",
    "        Initial guess for a solution f(x)=0.\n",
    "    epsilon : number\n",
    "        Stopping criteria is abs(f(x)) < epsilon.\n",
    "    max_iter : integer\n",
    "        Maximum number of iterations of Newton's method.\n",
    "    '''\n",
    "    xn = x0\n",
    "    for n in range(0,max_iter):\n",
    "        fxn = f(xn)\n",
    "        if abs(fxn) < epsilon:\n",
    "            print('Found solution after',n,'iterations.')\n",
    "            return xn\n",
    "        Dfxn = Df(xn)\n",
    "        if Dfxn == 0:\n",
    "            print('Zero derivative. No solution found.')\n",
    "            return None\n",
    "        xn = xn - fxn/Dfxn\n",
    "    print('Exceeded maximum iterations. No solution found.')\n",
    "    return None\n",
    "\n",
    "f = lambda x: x**3 - x**2 - 1\n",
    "Df = lambda x: 3*x**2 - 2*x\n",
    "newton(f,Df,1,1e-10,10)"
   ]
  },
  {
   "cell_type": "markdown",
   "metadata": {},
   "source": [
    "## V - Secant\n",
    "\n",
    "We want to use Newton's method but we don't know the derivative $f'$ of $f$. We make an estimation of the derivative of $f$ in $x_0$ that we reinject in Newton's method.\n",
    "\n",
    "**Method : **\n",
    "- We're evaluating the derivative of $f(x_i)$.\n",
    "- We compute the tangent to the point $(x_i, f(x_i))$\n",
    "- Xe calculate the intersection of the tangent with the abscissa axis\n",
    "- We get x_{i+1}\n",
    "- We do it all over again\n",
    "\n",
    "We stop when $f(x)$ is small enough.\n",
    "\n",
    "**Derivative :** $$f'(x_0) = lim_{x->x_0}\\frac{f(x) - f(x_0)}{x - x_0} $$\n",
    "\n",
    "**Numerical Estimation of the derivative (back derivative) :**\n",
    "$$f'(x) \\simeq \\frac{f(x) - f(x - \\Delta x)}{\\Delta x}$$\n",
    "\n",
    "**Iteration :** \n",
    "$$ x_{n+1} = x_n − \\Delta x \\frac{f(x_n)}{f(x_n) - f(x_n - \\Delta x)} $$"
   ]
  },
  {
   "cell_type": "code",
   "execution_count": 88,
   "metadata": {},
   "outputs": [
    {
     "name": "stdout",
     "output_type": "stream",
     "text": [
      "Root of the given equation = 0.682326\n",
      "Number of iterations =  5\n"
     ]
    }
   ],
   "source": [
    "def function(x): \n",
    "    # we are taking equation x^3+x-1  \n",
    "    f = pow(x, 3) + x - 1;  \n",
    "    return f;  \n",
    "  \n",
    "def secant(x1, x2, E): \n",
    "    n = 0; xm = 0; x0 = 0; c = 0;  \n",
    "    if (function(x1) * function(x2) < 0): \n",
    "        while True:  \n",
    "            # calculate the intermediate value  \n",
    "            x0 = ((x1 * function(x2) - x2 * function(x1)) / (function(x2) - function(x1)));  \n",
    "  \n",
    "            # check if x0 is root of  \n",
    "            # equation or not  \n",
    "            c = function(x1) * function(x0);  \n",
    "  \n",
    "            # update the value of interval  \n",
    "            x1 = x2;  \n",
    "            x2 = x0;  \n",
    "  \n",
    "            # update number of iteration  \n",
    "            n += 1;  \n",
    "  \n",
    "            # if x0 is the root of equation  \n",
    "            # then break the loop  \n",
    "            if (c == 0):  \n",
    "                break;  \n",
    "            xm = ((x1 * function(x2) - x2 * function(x1)) / (function(x2) - function(x1))); \n",
    "              \n",
    "            if(abs(xm - x0) < E): \n",
    "                break; \n",
    "          \n",
    "        print(\"Root of the given equation =\",round(x0, 6));  \n",
    "        print(\"Number of iterations = \", n);  \n",
    "          \n",
    "    else: \n",
    "        print(\"Can not find a root in \", \n",
    "                   \"the given inteval\");  \n",
    "        \n",
    "x1 = 0;  \n",
    "x2 = 1;  \n",
    "E = 0.0001;  \n",
    "secant(x1, x2, E);"
   ]
  },
  {
   "cell_type": "markdown",
   "metadata": {},
   "source": [
    "## Conclusion\n",
    "\n",
    "The root-finding problem is one of the most important computational problems. It arises in wide variety of practical applications. "
   ]
  },
  {
   "cell_type": "markdown",
   "metadata": {},
   "source": [
    "## 📖 Sources\n",
    "\n",
    "### Websites\n",
    "\n",
    "| Name | Author | Date | Description |\n",
    "| --- | --- | --- | --- |\n",
    "| [Mathematical Python](https://www.math.ubc.ca/~pwalls/math-python/) | Patrick Walls | 2019 | Explanation of mathematical computing |\n",
    "\n",
    "### Math classes\n",
    "\n",
    "| Teacher | Curriculum |\n",
    "| --- | --- |\n",
    "| [Vincent Nozick](http://www-igm.univ-mlv.fr/~vnozick/) | IMAC |"
   ]
  }
 ],
 "metadata": {
  "file_extension": ".py",
  "kernelspec": {
   "display_name": "Python 3",
   "language": "python",
   "name": "python3"
  },
  "language_info": {
   "codemirror_mode": {
    "name": "ipython",
    "version": 3
   },
   "file_extension": ".py",
   "mimetype": "text/x-python",
   "name": "python",
   "nbconvert_exporter": "python",
   "pygments_lexer": "ipython3",
   "version": "3.7.6"
  },
  "mimetype": "text/x-python",
  "name": "python",
  "npconvert_exporter": "python",
  "pygments_lexer": "ipython3",
  "version": 3
 },
 "nbformat": 4,
 "nbformat_minor": 2
}
