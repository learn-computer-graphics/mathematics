{
 "cells": [
  {
   "cell_type": "markdown",
   "metadata": {},
   "source": [
    "# Floating points\n",
    "\n",
    "> How they are stored inside computers, what are their limits and how to use them wisely\n",
    "\n",
    "## Binary representation (IEEE 754)\n",
    "\n",
    "### Examples\n",
    "\n",
    "#### Number 1\n",
    "\n",
    "Sign (1) | Exponent (8) | Fraction (23)\n",
    "--- | --- | ---\n",
    "0 | 0111 1111 | 0000 0000 0000 0000 0000 000\n",
    "Positive | 127 | 0\n",
    "\n",
    "$$ \n",
    "2^{127 - 127} = 2^0 \\\\\n",
    "x = 2^0 + 0 = 1\n",
    "$$\n",
    "\n",
    "#### Number 3.5\n",
    "\n",
    "Sign (1) | Exponent (8) | Fraction (23)\n",
    "--- | --- | ---\n",
    "0 | 1000 0000 | 1100 0000 0000 0000 0000 000\n",
    "Positive | 128 | $ 2^0 + 2^{-1} $\n",
    "\n",
    "$$ \n",
    "2^{128 - 127} = 2^1 \\\\\n",
    "x = 2^1 + 2^0 + 2^{-1} = 3.5\n",
    "$$\n",
    "\n",
    "___\n",
    "\n",
    "\n",
    "## Rounding Error\n",
    "\n",
    "Operations works better when dealing with number of the same sizes. If the step is too big, like adding 0.000000000001 with 100.2, you will have imprecision.\n",
    "\n",
    "Try to add the smaller elements first so that they grow bigger. Do your operations from smaller to bigger.\n",
    "\n",
    "Soustraction is the most dangerous operation for floats\n",
    "\n",
    "___\n",
    "\n",
    "\n",
    "## Available Sources\n",
    "\n",
    "### Websites\n",
    "\n",
    "| Name | Author | Date |\n",
    "| --- | --- | --- |\n",
    "| [What Every Computer Scientist Should Know About Floating-Point Arithmetic](https://docs.oracle.com/cd/E19957-01/806-3568/ncg_goldberg.html) | David Goldberg | 1991 |\n",
    "| [Floating point arithmetic](https://en.wikipedia.org/wiki/Floating-point_arithmetic) | Diverse (Wikipedia) | . |\n"
   ]
  },
  {
   "cell_type": "code",
   "execution_count": null,
   "metadata": {},
   "outputs": [],
   "source": []
  }
 ],
 "metadata": {
  "kernelspec": {
   "display_name": "Python 3",
   "language": "python",
   "name": "python3"
  },
  "language_info": {
   "codemirror_mode": {
    "name": "ipython",
    "version": 3
   },
   "file_extension": ".py",
   "mimetype": "text/x-python",
   "name": "python",
   "nbconvert_exporter": "python",
   "pygments_lexer": "ipython3",
   "version": "3.7.4"
  },
  "widgets": {
   "application/vnd.jupyter.widget-state+json": {
    "state": {},
    "version_major": 2,
    "version_minor": 0
   }
  }
 },
 "nbformat": 4,
 "nbformat_minor": 2
}
