{
 "cells": [
  {
   "cell_type": "markdown",
   "metadata": {},
   "source": [
    "# Integers\n",
    "\n",
    "> How they are stored inside of your computers and how to manipulate them with care\n",
    "\n",
    "## Table of contents\n",
    "\n",
    "[**Introduction**](#Introduction)\n",
    "\n",
    "[**I - How it works**](#I---How-it-works)\n",
    "* [**A - Memory storage**](#A---Memory-storage)\n",
    "* [**B - Binary to Decimal**](#B---Binary-to-decimal)\n",
    "* [**C - Decimal to Binary**](#C---Decimal-to-binary)\n",
    "\n",
    "[**II - Limitations**](#II---Limitations)\n",
    "* [**A - Size limits**](#A---Size-limits)\n",
    "* [**B - Use cases**](#B---Use-cases)\n",
    "\n",
    "[**III - Binary operations in programming**](#III---Binary-operations-in-programming)\n",
    "* [**A - Binary shifting**](#A---Binary-shifting)\n",
    "* [**B - Bitmask**](#B---Bitmask)\n",
    "\n",
    "[**Conclusion**](#Conclusion)\n",
    "\n",
    "[**Sources**](#-Sources)\n",
    "\n",
    "## Notebook Setup"
   ]
  },
  {
   "cell_type": "code",
   "execution_count": 1,
   "metadata": {},
   "outputs": [],
   "source": [
    "from ipywidgets import interact"
   ]
  },
  {
   "cell_type": "markdown",
   "metadata": {},
   "source": [
    "## Introduction\n",
    "\n",
    "Integers are the **bread and butter of every computer program**. In fact, for a long time, there was no floating points in computers and they were the only available number representation (*check floating point notebook for more detail*). One big advantage is that they are **reliable, easy to store and to understand** as we will see together. Some languages even gives access to their binary representation to allow some advanced operation by the programmer.\n",
    "\n",
    "___\n",
    "\n",
    "## I - How it works\n",
    "\n",
    "> You might already know that computers stores values with 1 and 0, but do you really know how it is handled ?\n",
    "\n",
    "### A - Memory storage\n",
    "\n",
    "Computers get their data from [Hard drives](https://www.explainthatstuff.com/harddrive.html) or [SSD](https://computer.howstuffworks.com/solid-state-drive.htm) when they boot up. With both these [storage methods](https://www.explainthatstuff.com/how-computer-memory-works.html), data is layed out and read with only **binary**, 0 and 1 values. If you put 8 bits together it is called a <b>byte</b>. If you continue to group bytes together, you access **common measurements** for memory. 1 000 bytes are 1 Kilo Byte (KB), and a Mega Byte (MB) is 1 000 KBs, this continue onward. \n",
    "\n",
    "Note that there is a parrallel measurement unit which has a different basis : 1 024 bytes are 1 Kibi Byte (Kio). It is the binary basis opposed to the decimal one.\n",
    "\n",
    "<table>\n",
    "    <tbody>\n",
    "        <tr>\n",
    "            <td><img width=\"50px\" src=\"https://image.flaticon.com/icons/png/512/2933/2933228.png\" alt=\"book\"/></td>\n",
    "            <td>A <b>bit</b> is a value that can be in only 2 states, true or false, 0 or 1. <br/>Is is a shorthand name for <b>b</b>inary dig<b>its</b>.</td>\n",
    "        </tr>\n",
    "    </tbody>\n",
    "</table>\n",
    "\n",
    "It is no surprise that memory works in binary as the base unit of operation in computers are [transistors](https://electronics.howstuffworks.com/transistor.htm). It is a physical electronic component that can be in 2 states, open or closed, the electricity goes through, or is blocked. Transistors are used to create [logic gates](https://www.explainthatstuff.com/logicgates.html) which allow to make simple operations on binary values. With enough of those gates, you can make mathematical operation on your binary digits. Any operation made on the computer will be deduced as a mathematical operation made on these logic circuit.\n",
    "\n",
    "<table>\n",
    "    <tbody>\n",
    "        <tr>\n",
    "            <td><img width=\"50px\" src=\"https://image.flaticon.com/icons/png/512/2933/2933228.png\" alt=\"book\"/></td>\n",
    "            <td>A <b>logic circuit</b> is a system composed of logic gates.<br/>With the basic operations of logic gates, once put in serie, you can make any mathematical operation.</td>\n",
    "        </tr>\n",
    "    </tbody>\n",
    "</table>"
   ]
  },
  {
   "cell_type": "markdown",
   "metadata": {},
   "source": [
    "### B - Binary to decimal\n",
    "\n",
    "Everything in computer are in binary (base 2), but we human, works with the decimal basis. Fortunately is is easy to get the decimal value (base 10) from a binary number.\n",
    "\n",
    "For example, the number `1101`\n",
    "\n",
    "| 1 | - | 1 | - | 0 | -  | 1 | *(base 2)* |\n",
    "| --- | --- | --- | --- | --- | --- | --- | --: |\n",
    "| $ 1 \\times 2^3$ | + | $ 1 \\times 2^2 $ | + | $ 0 \\times 2^1 $ | + | $ 1 \\times 2^0 $ | *(base 10)* |\n",
    "| $ 1 \\times 8 $ | + | $ 1 \\times 4 $ | + | $ 0 \\times 2 $ | + | $ 1 \\times 1 $ | *(base 10)* |\n",
    "| $ 8 $ | + | $ 4 $ | + | $ 0 $ | + | $ 1 $ | *(base 10)* |\n",
    "\n",
    "$$ = 13 $$\n",
    "\n",
    "As you see, each digits is multiplied by 2 with a power depending its position. Then the result is summed. The general formula for this process is :\n",
    "\n",
    "$$\n",
    "x = \\sum_{i=0}^{m} a_i 2^{m-i}\n",
    "$$\n",
    "\n",
    "And there is the implementation of the formula :"
   ]
  },
  {
   "cell_type": "code",
   "execution_count": 2,
   "metadata": {
    "scrolled": true
   },
   "outputs": [
    {
     "data": {
      "application/vnd.jupyter.widget-view+json": {
       "model_id": "ad3c7bbd54bc4da79829cdced39a30df",
       "version_major": 2,
       "version_minor": 0
      },
      "text/plain": [
       "interactive(children=(Text(value='1101', description='binary'), Output()), _dom_classes=('widget-interact',))"
      ]
     },
     "metadata": {},
     "output_type": "display_data"
    }
   ],
   "source": [
    "@interact(binary = '1101')\n",
    "def binaryToDecimal(binary: str):\n",
    "    array = [int(x) for x in str(binary)]\n",
    "    x = 0\n",
    "    for i, a in enumerate(array):\n",
    "        x += a * pow(2, (len(array) - 1) - i)\n",
    "    print(\"Decimal representation of \" + binary + \" is : \" + str(x))\n"
   ]
  },
  {
   "cell_type": "markdown",
   "metadata": {},
   "source": [
    "Operation made in binary basis are still valid when we represent them in decimal. So every operation in computers are made in binary format and then translated for our eyes. For exemple let's see the binary addition between 1011 and 0010, respectively 11 and 2 in decimal :\n",
    "\n",
    "$$\n",
    "1011 \\\\\n",
    "+ 0010 \\\\\n",
    "= 1101\n",
    "$$\n",
    "\n",
    "As you can see, we obtain 13.\n"
   ]
  },
  {
   "cell_type": "markdown",
   "metadata": {},
   "source": [
    "### C - Decimal to binary\n",
    "\n",
    "To obtain the binary representation of a decimal number, you have to divide the number by 2 and keep the remainder. Put together, the remainders are be the binary representation.\n"
   ]
  },
  {
   "cell_type": "code",
   "execution_count": 12,
   "metadata": {},
   "outputs": [
    {
     "data": {
      "application/vnd.jupyter.widget-view+json": {
       "model_id": "0553dd29c9be44d1a52b131881a6516e",
       "version_major": 2,
       "version_minor": 0
      },
      "text/plain": [
       "interactive(children=(IntSlider(value=13, description='decimal', max=26), Output()), _dom_classes=('widget-int…"
      ]
     },
     "metadata": {},
     "output_type": "display_data"
    }
   ],
   "source": [
    "@interact(decimal = (0, 26))\n",
    "def decimalToBinary(decimal : int) -> str:\n",
    "    binary = ''\n",
    "    while decimal > 0:\n",
    "        binary += str(decimal % 2)\n",
    "        decimal = decimal // 2\n",
    "    return binary[::-1] # Reverse string"
   ]
  },
  {
   "cell_type": "markdown",
   "metadata": {},
   "source": [
    "## II - Limitations\n",
    "\n",
    "> Even though they are great, integers have some caveats by design\n",
    "\n",
    "### A - Size limits\n",
    "\n",
    "Computer memory has a limit, and so must be the variable size. Many languages are using different types of integers variables with different max sizes. If you store the number 2 with a `unsigned int` in C++ (32 bits), it will take the same size in memory that the number $2^{32} - 1$, so choosing the right variable type depending on your usage is important.\n",
    "\n",
    "In C++, there is a difference between `signed` and `unsigned` integers. The unsigned cannot be negative, but they can use a greater range of values.\n",
    "\n",
    "For really big number, you often need an additionnal library to handle those depending on the language.\n",
    "\n",
    "### B - Use cases\n",
    "\n",
    "✔️\n",
    "\n",
    "The advantages of integers is that they are always stable, their values **remain mathematically correct** after any set of operations. This is why we use them in databases to store crucial information like money or geographical location. We could think that floating points would be more suited for this job but it is false (check notebook of floating points for more details).\n",
    "\n",
    "❌\n",
    "\n",
    "Yet, there are **jobs that they can't do**. Try to tell a mathematician or a computer graphics engineer that they can't use floats to see how they react. The fact is that for the large amount of operation in **3D graphics**, or any kind of **linear algebra**, you need to keep track of the fractionnal part of each operation. Something that integers simply can't do (but workaround exists, check Game Engine Black book for more details on old days tricks)."
   ]
  },
  {
   "cell_type": "markdown",
   "metadata": {},
   "source": [
    "___\n",
    "\n",
    "## III - Binary operations usages in programming\n",
    "\n",
    "> Because it is easy to understand, some langages offer operation on their binary representation. Let's see why\n",
    "\n",
    "### A - Binary shifting\n",
    "\n",
    "You can decal the binary representation of an integer to the left. For exemple :"
   ]
  },
  {
   "cell_type": "code",
   "execution_count": 4,
   "metadata": {},
   "outputs": [
    {
     "name": "stdout",
     "output_type": "stream",
     "text": [
      "8\n"
     ]
    }
   ],
   "source": [
    "a = 1 # 0000 0001\n",
    "print(a << 3) # 0000 1000"
   ]
  },
  {
   "cell_type": "markdown",
   "metadata": {},
   "source": [
    "It is a uber-fast way to make any $2^x$"
   ]
  },
  {
   "cell_type": "code",
   "execution_count": 5,
   "metadata": {},
   "outputs": [
    {
     "data": {
      "application/vnd.jupyter.widget-view+json": {
       "model_id": "8fc0d5f22c074f8c8aa8dd5cbd00e827",
       "version_major": 2,
       "version_minor": 0
      },
      "text/plain": [
       "interactive(children=(IntSlider(value=5, description='x', max=15, min=-5), Output()), _dom_classes=('widget-in…"
      ]
     },
     "metadata": {},
     "output_type": "display_data"
    }
   ],
   "source": [
    "@interact(x = 5)\n",
    "def pow2(x: int) -> int:\n",
    "    return 1 << x"
   ]
  },
  {
   "cell_type": "markdown",
   "metadata": {},
   "source": [
    "### B - Bitmask\n",
    "\n",
    "When you want to provide a function with **multiple options** in the parameter, one way is to use **flags** to create a [bitmask](https://www.learncpp.com/cpp-tutorial/bit-manipulation-with-bitwise-operators-and-bit-masks/). With it, users can set any kind of flags they want, it is cheap and uberfast (way more than using an array of enums).\n",
    "\n",
    "To do so, you create constants with different bit values. The **bits must be at different places** so for an int you have 8 possible flags (64 for a long int in C++, or almost unlimited with a bitset). Then you create your mask by adding them with the OR operator (`|`) and you can check flags sets in the mask with the AND operator (`&`).\n",
    "\n",
    "In the function, you simply have to check for the bits set to 1 in the mask to activate asked options."
   ]
  },
  {
   "cell_type": "code",
   "execution_count": 6,
   "metadata": {},
   "outputs": [
    {
     "name": "stdout",
     "output_type": "stream",
     "text": [
      "101\n",
      "1\n",
      "0\n"
     ]
    }
   ],
   "source": [
    "flag0 = 1 << 0 # 0000 0001 \n",
    "flag1 = 1 << 1 # 0000 0010 \n",
    "flag2 = 1 << 2 # 0000 0100\n",
    "\n",
    "myMask = flag0 | flag2\n",
    "print(decimalToBinary(myMask)) # 0000 0101\n",
    "\n",
    "# Check if the flag is set\n",
    "print(myMask & flag0) # True\n",
    "print(myMask & flag1) # False"
   ]
  },
  {
   "cell_type": "markdown",
   "metadata": {},
   "source": [
    "___\n",
    "\n",
    "## Conclusion\n",
    "\n",
    "Integers are really useful and are used everywhere. Their easy-to use binary representation allows programmer to optimize bit and bits of their app, and their stability make them great for storing data with confidence. However, they lack by nature the precision offered by floating points which make them unsuited for many use cases. \n",
    "\n",
    "___\n",
    "\n",
    "## 📖 Sources\n",
    "\n",
    "### Books\n",
    "\n",
    "| Name | Author | Date |\n",
    "| --- | --- | --- |\n",
    "| [Game Engine Black Book](https://fabiensanglard.net/gebbdoom/) | Fabien Sanglard | 2018 |"
   ]
  },
  {
   "cell_type": "code",
   "execution_count": null,
   "metadata": {},
   "outputs": [],
   "source": []
  }
 ],
 "metadata": {
  "kernelspec": {
   "display_name": "Python 3",
   "language": "python",
   "name": "python3"
  },
  "language_info": {
   "codemirror_mode": {
    "name": "ipython",
    "version": 3
   },
   "file_extension": ".py",
   "mimetype": "text/x-python",
   "name": "python",
   "nbconvert_exporter": "python",
   "pygments_lexer": "ipython3",
   "version": "3.7.6"
  },
  "widgets": {
   "application/vnd.jupyter.widget-state+json": {
    "state": {
     "04af82cdba334f89a0c769c22ce6bc1e": {
      "model_module": "@jupyter-widgets/controls",
      "model_module_version": "1.5.0",
      "model_name": "TextModel",
      "state": {
       "description": "binary",
       "layout": "IPY_MODEL_5b848f4e686a4463aa1ea91c54bf7e41",
       "style": "IPY_MODEL_ce46c40d25cb462e8ace0717a2ee4143",
       "value": "1101"
      }
     },
     "0553dd29c9be44d1a52b131881a6516e": {
      "model_module": "@jupyter-widgets/controls",
      "model_module_version": "1.5.0",
      "model_name": "VBoxModel",
      "state": {
       "_dom_classes": [
        "widget-interact"
       ],
       "children": [
        "IPY_MODEL_934302a1935c4612b93f06d39b6aec89",
        "IPY_MODEL_953717878dc3430c9b63b4690f6c3385"
       ],
       "layout": "IPY_MODEL_c484c73bbefe49428d34492ff3098c7d"
      }
     },
     "0654466afb444d4f82b62eadf9ac20a5": {
      "model_module": "@jupyter-widgets/controls",
      "model_module_version": "1.5.0",
      "model_name": "IntSliderModel",
      "state": {
       "description": "decimal",
       "layout": "IPY_MODEL_e2aed0d1c0274b04976650a7d20f880a",
       "max": 39,
       "min": -13,
       "style": "IPY_MODEL_da9fc63fc8f54b6585b0d8011b5cdc76",
       "value": 11
      }
     },
     "1201377b617a43789b56f0f46975f43e": {
      "model_module": "@jupyter-widgets/output",
      "model_module_version": "1.0.0",
      "model_name": "OutputModel",
      "state": {
       "layout": "IPY_MODEL_32a86ab4feaf4b4687ae11dd884c8f44",
       "outputs": [
        {
         "data": {
          "text/plain": "'1111'"
         },
         "metadata": {},
         "output_type": "display_data"
        }
       ]
      }
     },
     "14369c0e21ac42acbfe898a5d2e1ddcd": {
      "model_module": "@jupyter-widgets/base",
      "model_module_version": "1.2.0",
      "model_name": "LayoutModel",
      "state": {}
     },
     "17ad8857682244318304bae2d1bda67f": {
      "model_module": "@jupyter-widgets/base",
      "model_module_version": "1.2.0",
      "model_name": "LayoutModel",
      "state": {}
     },
     "1bbfff92e9e048da8a35a7cb3f9c61e5": {
      "model_module": "@jupyter-widgets/output",
      "model_module_version": "1.0.0",
      "model_name": "OutputModel",
      "state": {
       "layout": "IPY_MODEL_8b0a6deb87fc4120b1af3edd37c6c1ff",
       "outputs": [
        {
         "name": "stdout",
         "output_type": "stream",
         "text": "Decimal representation of 1101 is : 13\n"
        }
       ]
      }
     },
     "215f145b2eb446c080bd1b28dc8c8e77": {
      "model_module": "@jupyter-widgets/base",
      "model_module_version": "1.2.0",
      "model_name": "LayoutModel",
      "state": {}
     },
     "2cc8040f0b334688ba1b0d126c8921ab": {
      "model_module": "@jupyter-widgets/base",
      "model_module_version": "1.2.0",
      "model_name": "LayoutModel",
      "state": {}
     },
     "306db758ff834ecaa4bd0294ca643c5d": {
      "model_module": "@jupyter-widgets/controls",
      "model_module_version": "1.5.0",
      "model_name": "IntSliderModel",
      "state": {
       "description": "decimal",
       "layout": "IPY_MODEL_5a0df6b2eabe41749833a35d4d4bd1be",
       "max": 30,
       "step": 13,
       "style": "IPY_MODEL_cdb23035025642caad3f5db1430c5cee",
       "value": 13
      }
     },
     "3070825f3a55478e90723e5dc21370ad": {
      "model_module": "@jupyter-widgets/base",
      "model_module_version": "1.2.0",
      "model_name": "LayoutModel",
      "state": {}
     },
     "314363ac9d7049b1afa3bba721f5e785": {
      "model_module": "@jupyter-widgets/base",
      "model_module_version": "1.2.0",
      "model_name": "LayoutModel",
      "state": {}
     },
     "32a86ab4feaf4b4687ae11dd884c8f44": {
      "model_module": "@jupyter-widgets/base",
      "model_module_version": "1.2.0",
      "model_name": "LayoutModel",
      "state": {}
     },
     "400ae712954145e08f894fcf0ae774df": {
      "model_module": "@jupyter-widgets/output",
      "model_module_version": "1.0.0",
      "model_name": "OutputModel",
      "state": {
       "layout": "IPY_MODEL_c5072ae33bcd428a8f420322bfb515ef",
       "outputs": [
        {
         "data": {
          "text/plain": "'1001'"
         },
         "metadata": {},
         "output_type": "display_data"
        }
       ]
      }
     },
     "42a291578d4048918e63d1b27f2af059": {
      "model_module": "@jupyter-widgets/base",
      "model_module_version": "1.2.0",
      "model_name": "LayoutModel",
      "state": {}
     },
     "4e6a246acb0f40548fcd5cecbc96be4b": {
      "model_module": "@jupyter-widgets/controls",
      "model_module_version": "1.5.0",
      "model_name": "SliderStyleModel",
      "state": {
       "description_width": ""
      }
     },
     "4fbc1b6a938248219fc3ed5e8359bb68": {
      "model_module": "@jupyter-widgets/controls",
      "model_module_version": "1.5.0",
      "model_name": "VBoxModel",
      "state": {
       "_dom_classes": [
        "widget-interact"
       ],
       "children": [
        "IPY_MODEL_bd8d473a536f446caabcfa4cb2929d58",
        "IPY_MODEL_1201377b617a43789b56f0f46975f43e"
       ],
       "layout": "IPY_MODEL_2cc8040f0b334688ba1b0d126c8921ab"
      }
     },
     "528d8512542c408ebdb8b42b12b57801": {
      "model_module": "@jupyter-widgets/output",
      "model_module_version": "1.0.0",
      "model_name": "OutputModel",
      "state": {
       "layout": "IPY_MODEL_aebae3ce715a4fbfabed2647465b0a1e",
       "outputs": [
        {
         "data": {
          "text/plain": "32"
         },
         "metadata": {},
         "output_type": "display_data"
        }
       ]
      }
     },
     "5439e2fdedea4375b6f44809f951d6b2": {
      "model_module": "@jupyter-widgets/base",
      "model_module_version": "1.2.0",
      "model_name": "LayoutModel",
      "state": {}
     },
     "58c1f3559b0f4caeac4d381a8eaabecd": {
      "model_module": "@jupyter-widgets/controls",
      "model_module_version": "1.5.0",
      "model_name": "VBoxModel",
      "state": {
       "_dom_classes": [
        "widget-interact"
       ],
       "children": [
        "IPY_MODEL_f509827ffd4f4032989922fdda80a5a3",
        "IPY_MODEL_e519f57fe970482d860532eee1e8e185"
       ],
       "layout": "IPY_MODEL_9eaeba6f719c48c6b29130dd46f4ba45"
      }
     },
     "5a0df6b2eabe41749833a35d4d4bd1be": {
      "model_module": "@jupyter-widgets/base",
      "model_module_version": "1.2.0",
      "model_name": "LayoutModel",
      "state": {}
     },
     "5b848f4e686a4463aa1ea91c54bf7e41": {
      "model_module": "@jupyter-widgets/base",
      "model_module_version": "1.2.0",
      "model_name": "LayoutModel",
      "state": {}
     },
     "6af9e804dfe54ccea7d1b2c20721131b": {
      "model_module": "@jupyter-widgets/base",
      "model_module_version": "1.2.0",
      "model_name": "LayoutModel",
      "state": {}
     },
     "8b0a6deb87fc4120b1af3edd37c6c1ff": {
      "model_module": "@jupyter-widgets/base",
      "model_module_version": "1.2.0",
      "model_name": "LayoutModel",
      "state": {}
     },
     "8fc0d5f22c074f8c8aa8dd5cbd00e827": {
      "model_module": "@jupyter-widgets/controls",
      "model_module_version": "1.5.0",
      "model_name": "VBoxModel",
      "state": {
       "_dom_classes": [
        "widget-interact"
       ],
       "children": [
        "IPY_MODEL_a97240048e164f2e9308415dfc4df72f",
        "IPY_MODEL_528d8512542c408ebdb8b42b12b57801"
       ],
       "layout": "IPY_MODEL_bc7c4d5a769e44b984478ecc57f92991"
      }
     },
     "923c9e14545e4139a0dbe491ef32e878": {
      "model_module": "@jupyter-widgets/controls",
      "model_module_version": "1.5.0",
      "model_name": "SliderStyleModel",
      "state": {
       "description_width": ""
      }
     },
     "934302a1935c4612b93f06d39b6aec89": {
      "model_module": "@jupyter-widgets/controls",
      "model_module_version": "1.5.0",
      "model_name": "IntSliderModel",
      "state": {
       "description": "decimal",
       "layout": "IPY_MODEL_314363ac9d7049b1afa3bba721f5e785",
       "max": 26,
       "style": "IPY_MODEL_c4a0a05e193d4d12aa5c020fcad43bad",
       "value": 13
      }
     },
     "953717878dc3430c9b63b4690f6c3385": {
      "model_module": "@jupyter-widgets/output",
      "model_module_version": "1.0.0",
      "model_name": "OutputModel",
      "state": {
       "layout": "IPY_MODEL_3070825f3a55478e90723e5dc21370ad",
       "outputs": [
        {
         "data": {
          "text/plain": "'1101'"
         },
         "metadata": {},
         "output_type": "display_data"
        }
       ]
      }
     },
     "9eaeba6f719c48c6b29130dd46f4ba45": {
      "model_module": "@jupyter-widgets/base",
      "model_module_version": "1.2.0",
      "model_name": "LayoutModel",
      "state": {}
     },
     "a164b08235d442a79aab7eb7c6829baf": {
      "model_module": "@jupyter-widgets/controls",
      "model_module_version": "1.5.0",
      "model_name": "VBoxModel",
      "state": {
       "_dom_classes": [
        "widget-interact"
       ],
       "children": [
        "IPY_MODEL_306db758ff834ecaa4bd0294ca643c5d",
        "IPY_MODEL_a26c9cbebdb9446880b10c634e183d33"
       ],
       "layout": "IPY_MODEL_b4e593e9721443fba6b3f8d3d0297b78"
      }
     },
     "a26c9cbebdb9446880b10c634e183d33": {
      "model_module": "@jupyter-widgets/output",
      "model_module_version": "1.0.0",
      "model_name": "OutputModel",
      "state": {
       "layout": "IPY_MODEL_215f145b2eb446c080bd1b28dc8c8e77",
       "outputs": [
        {
         "data": {
          "text/plain": "'1101'"
         },
         "metadata": {},
         "output_type": "display_data"
        }
       ]
      }
     },
     "a97240048e164f2e9308415dfc4df72f": {
      "model_module": "@jupyter-widgets/controls",
      "model_module_version": "1.5.0",
      "model_name": "IntSliderModel",
      "state": {
       "description": "x",
       "layout": "IPY_MODEL_5439e2fdedea4375b6f44809f951d6b2",
       "max": 15,
       "min": -5,
       "style": "IPY_MODEL_923c9e14545e4139a0dbe491ef32e878",
       "value": 5
      }
     },
     "ac09e50e621d476ea6fbb5b5ff5d1649": {
      "model_module": "@jupyter-widgets/base",
      "model_module_version": "1.2.0",
      "model_name": "LayoutModel",
      "state": {}
     },
     "ad3c7bbd54bc4da79829cdced39a30df": {
      "model_module": "@jupyter-widgets/controls",
      "model_module_version": "1.5.0",
      "model_name": "VBoxModel",
      "state": {
       "_dom_classes": [
        "widget-interact"
       ],
       "children": [
        "IPY_MODEL_04af82cdba334f89a0c769c22ce6bc1e",
        "IPY_MODEL_1bbfff92e9e048da8a35a7cb3f9c61e5"
       ],
       "layout": "IPY_MODEL_17ad8857682244318304bae2d1bda67f"
      }
     },
     "aebae3ce715a4fbfabed2647465b0a1e": {
      "model_module": "@jupyter-widgets/base",
      "model_module_version": "1.2.0",
      "model_name": "LayoutModel",
      "state": {}
     },
     "b4399fd6a4084726add60f4ef80158b6": {
      "model_module": "@jupyter-widgets/controls",
      "model_module_version": "1.5.0",
      "model_name": "SliderStyleModel",
      "state": {
       "description_width": ""
      }
     },
     "b4e593e9721443fba6b3f8d3d0297b78": {
      "model_module": "@jupyter-widgets/base",
      "model_module_version": "1.2.0",
      "model_name": "LayoutModel",
      "state": {}
     },
     "bc7c4d5a769e44b984478ecc57f92991": {
      "model_module": "@jupyter-widgets/base",
      "model_module_version": "1.2.0",
      "model_name": "LayoutModel",
      "state": {}
     },
     "bca76b82cae144c48f921df5a17e640c": {
      "model_module": "@jupyter-widgets/controls",
      "model_module_version": "1.5.0",
      "model_name": "VBoxModel",
      "state": {
       "_dom_classes": [
        "widget-interact"
       ],
       "children": [
        "IPY_MODEL_0654466afb444d4f82b62eadf9ac20a5",
        "IPY_MODEL_f691ba0d9ba548c2b6423d5503c1af53"
       ],
       "layout": "IPY_MODEL_14369c0e21ac42acbfe898a5d2e1ddcd"
      }
     },
     "bd8d473a536f446caabcfa4cb2929d58": {
      "model_module": "@jupyter-widgets/controls",
      "model_module_version": "1.5.0",
      "model_name": "IntSliderModel",
      "state": {
       "description": "decimal",
       "layout": "IPY_MODEL_c593963f60c143bf839e4d8dc2168dbe",
       "max": 30,
       "style": "IPY_MODEL_4e6a246acb0f40548fcd5cecbc96be4b",
       "value": 15
      }
     },
     "c35d515021e540b4a019e30ec3c3ceb2": {
      "model_module": "@jupyter-widgets/base",
      "model_module_version": "1.2.0",
      "model_name": "LayoutModel",
      "state": {}
     },
     "c484c73bbefe49428d34492ff3098c7d": {
      "model_module": "@jupyter-widgets/base",
      "model_module_version": "1.2.0",
      "model_name": "LayoutModel",
      "state": {}
     },
     "c4a0a05e193d4d12aa5c020fcad43bad": {
      "model_module": "@jupyter-widgets/controls",
      "model_module_version": "1.5.0",
      "model_name": "SliderStyleModel",
      "state": {
       "description_width": ""
      }
     },
     "c5072ae33bcd428a8f420322bfb515ef": {
      "model_module": "@jupyter-widgets/base",
      "model_module_version": "1.2.0",
      "model_name": "LayoutModel",
      "state": {}
     },
     "c593963f60c143bf839e4d8dc2168dbe": {
      "model_module": "@jupyter-widgets/base",
      "model_module_version": "1.2.0",
      "model_name": "LayoutModel",
      "state": {}
     },
     "c763c4cd9cf54a998cc095f720cbe37f": {
      "model_module": "@jupyter-widgets/controls",
      "model_module_version": "1.5.0",
      "model_name": "IntSliderModel",
      "state": {
       "description": "decimal",
       "layout": "IPY_MODEL_6af9e804dfe54ccea7d1b2c20721131b",
       "max": 39,
       "min": -13,
       "style": "IPY_MODEL_cc717271786b490793752804036f8c77",
       "value": 9
      }
     },
     "cc717271786b490793752804036f8c77": {
      "model_module": "@jupyter-widgets/controls",
      "model_module_version": "1.5.0",
      "model_name": "SliderStyleModel",
      "state": {
       "description_width": ""
      }
     },
     "cdb23035025642caad3f5db1430c5cee": {
      "model_module": "@jupyter-widgets/controls",
      "model_module_version": "1.5.0",
      "model_name": "SliderStyleModel",
      "state": {
       "description_width": ""
      }
     },
     "ce46c40d25cb462e8ace0717a2ee4143": {
      "model_module": "@jupyter-widgets/controls",
      "model_module_version": "1.5.0",
      "model_name": "DescriptionStyleModel",
      "state": {
       "description_width": ""
      }
     },
     "da9fc63fc8f54b6585b0d8011b5cdc76": {
      "model_module": "@jupyter-widgets/controls",
      "model_module_version": "1.5.0",
      "model_name": "SliderStyleModel",
      "state": {
       "description_width": ""
      }
     },
     "e2aed0d1c0274b04976650a7d20f880a": {
      "model_module": "@jupyter-widgets/base",
      "model_module_version": "1.2.0",
      "model_name": "LayoutModel",
      "state": {}
     },
     "e519f57fe970482d860532eee1e8e185": {
      "model_module": "@jupyter-widgets/output",
      "model_module_version": "1.0.0",
      "model_name": "OutputModel",
      "state": {
       "layout": "IPY_MODEL_fd6b75242c76400abc2c19da787b796c",
       "outputs": [
        {
         "data": {
          "text/plain": "'1111'"
         },
         "metadata": {},
         "output_type": "display_data"
        }
       ]
      }
     },
     "f509827ffd4f4032989922fdda80a5a3": {
      "model_module": "@jupyter-widgets/controls",
      "model_module_version": "1.5.0",
      "model_name": "IntSliderModel",
      "state": {
       "description": "decimal",
       "layout": "IPY_MODEL_c35d515021e540b4a019e30ec3c3ceb2",
       "max": 30,
       "style": "IPY_MODEL_b4399fd6a4084726add60f4ef80158b6",
       "value": 15
      }
     },
     "f691ba0d9ba548c2b6423d5503c1af53": {
      "model_module": "@jupyter-widgets/output",
      "model_module_version": "1.0.0",
      "model_name": "OutputModel",
      "state": {
       "layout": "IPY_MODEL_ac09e50e621d476ea6fbb5b5ff5d1649",
       "outputs": [
        {
         "data": {
          "text/plain": "'1101'"
         },
         "metadata": {},
         "output_type": "display_data"
        }
       ]
      }
     },
     "fd6b75242c76400abc2c19da787b796c": {
      "model_module": "@jupyter-widgets/base",
      "model_module_version": "1.2.0",
      "model_name": "LayoutModel",
      "state": {}
     },
     "fe7c0f3070c24c61a2d15c74a1a100de": {
      "model_module": "@jupyter-widgets/controls",
      "model_module_version": "1.5.0",
      "model_name": "VBoxModel",
      "state": {
       "_dom_classes": [
        "widget-interact"
       ],
       "children": [
        "IPY_MODEL_c763c4cd9cf54a998cc095f720cbe37f",
        "IPY_MODEL_400ae712954145e08f894fcf0ae774df"
       ],
       "layout": "IPY_MODEL_42a291578d4048918e63d1b27f2af059"
      }
     }
    },
    "version_major": 2,
    "version_minor": 0
   }
  }
 },
 "nbformat": 4,
 "nbformat_minor": 4
}
