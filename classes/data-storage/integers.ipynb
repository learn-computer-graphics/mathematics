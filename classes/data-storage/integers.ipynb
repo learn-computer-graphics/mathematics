{
 "cells": [
  {
   "cell_type": "markdown",
   "metadata": {},
   "source": [
    "# Integers\n",
    "\n",
    "> How they are stored inside of your computers and how to manipulate them with care\n",
    "\n",
    "## Table of contents\n",
    "\n",
    "[**Introduction**](#Introduction)\n",
    "\n",
    "[**I - How it works**](#I---How-it-works)\n",
    "* [**A - Memory storage**](#A---Memory-storage)\n",
    "* [**B - Binary to Decimal**](#B---Binary-to-decimal)\n",
    "\n",
    "[**II - Limitations**](#II---Limitations)\n",
    "* [**A - Size limits**](#)\n",
    "* [**B - Use cases**](#)\n",
    "\n",
    "[**Conclusion**](#)\n",
    "\n",
    "\n",
    "## Notebook Setup"
   ]
  },
  {
   "cell_type": "code",
   "execution_count": 1,
   "metadata": {},
   "outputs": [],
   "source": [
    "from ipywidgets import interact"
   ]
  },
  {
   "cell_type": "markdown",
   "metadata": {},
   "source": [
    "## Introduction\n",
    "\n",
    "Integers are the **bread and butter of every computer program**. In fact, for a long time, there was no floating points in computers and they were the only available number representation (*check floating point notebook for more detail*). One big advantage is that they are **reliable, easy to store and to understand** as we will see together. Some languages even gives access to their binary representation to allow some advanced operation by the programmer.\n",
    "\n",
    "___\n",
    "\n",
    "## I - How it works\n",
    "\n",
    "> You might already know that computers stores values with 1 and 0, but do you really know how it is handled ?\n",
    "\n",
    "### A - Memory storage\n",
    "\n",
    "Computers get their data from [Hard drives](https://www.explainthatstuff.com/harddrive.html) or [SSD](https://computer.howstuffworks.com/solid-state-drive.htm) when they boot up. With both these [storage methods](https://www.explainthatstuff.com/how-computer-memory-works.html), data is layed out and read with only **binary**, 0 and 1 values. If you put 8 bits together it is called a <b>byte</b>. If you continue to group bytes together, you access **common measurements** for memory. 1 000 bytes are 1 Kilo Byte (KB), and a Mega Byte (MB) is 1 000 KBs, this continue onward. \n",
    "\n",
    "Note that there is a parrallel measurement unit which has a different basis : 1 024 bytes are 1 Kibi Byte (Kio). It is the binary basis opposed to the decimal one.\n",
    "\n",
    "<table>\n",
    "    <tbody>\n",
    "        <tr>\n",
    "            <td><img width=\"50px\" src=\"https://image.flaticon.com/icons/png/512/2933/2933228.png\" alt=\"book\"/></td>\n",
    "            <td>A <b>bit</b> is a value that can be in only 2 states, true or false, 0 or 1. <br/>Is is a shorthand name for <b>b</b>inary dig<b>its</b>.</td>\n",
    "        </tr>\n",
    "    </tbody>\n",
    "</table>\n",
    "\n",
    "It is no surprise that memory works in binary as the base unit of operation in computers are [transistors](https://electronics.howstuffworks.com/transistor.htm). It is a physical electronic component that can be in 2 states, open or closed, the electricity goes through, or is blocked. Transistors are used to create [logic gates](https://www.explainthatstuff.com/logicgates.html) which allow to make simple operations on binary values. With enough of those gates, you can make mathematical operation on your binary digits. Any operation made on the computer will be deduced as a mathematical operation made on these logic circuit.\n",
    "\n",
    "<table>\n",
    "    <tbody>\n",
    "        <tr>\n",
    "            <td><img width=\"50px\" src=\"https://image.flaticon.com/icons/png/512/2933/2933228.png\" alt=\"book\"/></td>\n",
    "            <td>A <b>logic circuit</b> is a system composed of logic gates.<br/>With the basic operations of logic gates, once put in serie, you can make any mathematical operation.</td>\n",
    "        </tr>\n",
    "    </tbody>\n",
    "</table>"
   ]
  },
  {
   "cell_type": "markdown",
   "metadata": {},
   "source": [
    "### B - Binary to decimal\n",
    "\n",
    "Everything in computer are in binary (base 2), but we human, works with the decimal basis. Fortunately is is easy to get the decimal value (base 10) from a binary number.\n",
    "\n",
    "For example, the number `1101`\n",
    "\n",
    "| 1 | - | 1 | - | 0 | -  | 1 | *(base 2)* |\n",
    "| --- | --- | --- | --- | --- | --- | --- | --: |\n",
    "| $ 1 \\times 2^3$ | + | $ 1 \\times 2^2 $ | + | $ 0 \\times 2^1 $ | + | $ 1 \\times 2^0 $ | *(base 10)* |\n",
    "| $ 1 \\times 8 $ | + | $ 1 \\times 4 $ | + | $ 0 \\times 2 $ | + | $ 1 \\times 1 $ | *(base 10)* |\n",
    "| $ 8 $ | + | $ 4 $ | + | $ 0 $ | + | $ 1 $ | *(base 10)* |\n",
    "\n",
    "$$ = 13 $$\n",
    "\n",
    "As you see, each digits is multiplied by 2 with a power depending its position. Then the result is summed. The general formula for this process is :\n",
    "\n",
    "$$\n",
    "x = \\sum_{i=0}^{m} a_i 2^{m-i}\n",
    "$$\n",
    "\n",
    "And there is the implementation of the formula :"
   ]
  },
  {
   "cell_type": "code",
   "execution_count": 2,
   "metadata": {
    "scrolled": true
   },
   "outputs": [
    {
     "name": "stdout",
     "output_type": "stream",
     "text": [
      "Decimal representation of 1101 is : 13\n"
     ]
    }
   ],
   "source": [
    "@interact(binary = '1101')\n",
    "def binaryToDecimal(binary: str):\n",
    "    array = [int(x) for x in str(binary)]\n",
    "    x = 0\n",
    "    for i, a in enumerate(array):\n",
    "        x += a * pow(2, (len(array) - 1) - i)\n",
    "    print(\"Decimal representation of \" + binary + \" is : \" + str(x))\n"
   ]
  },
  {
   "cell_type": "markdown",
   "metadata": {},
   "source": [
    "Operation made in binary basis are still valid when we represent them in decimal. So every operation in computers are made in binary format and then translated for our eyes. For exemple let's see the binary addition between 1011 and 0010, respectively 11 and 2 in decimal :\n",
    "\n",
    "$$\n",
    "\\begin{align}\n",
    "1011 \\\\\n",
    "+ 0010 \\\\\n",
    "= 1101\n",
    "\\end{align}\n",
    "$$\n",
    "\n",
    "As you can see, we obtain 13.\n"
   ]
  },
  {
   "cell_type": "markdown",
   "metadata": {},
   "source": [
    "### C - Decimal to binary\n",
    "\n",
    "To obtain the binary representation of a decimal number, you have to divide the number by 2 and keep the remainder. Put together, the remainders are be the binary representation.\n"
   ]
  },
  {
   "cell_type": "code",
   "execution_count": 3,
   "metadata": {},
   "outputs": [
    {
     "data": {
      "text/plain": [
       "'1011'"
      ]
     },
     "metadata": {},
     "output_type": "display_data"
    }
   ],
   "source": [
    "@interact(decimal = 13)\n",
    "def decimalToBinary(decimal : int) -> str:\n",
    "    binary = ''\n",
    "    while decimal > 0:\n",
    "        binary += str(decimal % 2)\n",
    "        decimal = decimal // 2\n",
    "    return binary"
   ]
  },
  {
   "cell_type": "markdown",
   "metadata": {},
   "source": [
    "## II - Limitations\n",
    "\n",
    "> Even though they are great, they have some caveats by design\n",
    "\n",
    "### A - Size limits\n",
    "\n",
    "Computer memory has a limit, and so must be the variable size. Many languages are using different types of integers variables with different max sizes. If you store the number 2 with a `unsigned int` in C++ (32 bits), it will take the same size in memory that the number $2^{32} - 1$, so choosing the right variable type depending on your usage is important.\n",
    "\n",
    "In C++, there is a difference between `signed` and `unsigned` integers. The unsigned cannot be negative, but they can use a greater range of values.\n",
    "\n",
    "For really big number, you often need an additionnal library to handle those depending on the language.\n",
    "\n",
    "### B - Use cases\n",
    "\n",
    "The advantages of integers is that they are always stable, their values **remain mathematically correct** after any set of operations.\n",
    "\n",
    "Cite game engine black book, need floats for linear algebra and physics\n",
    "\n",
    "\n"
   ]
  },
  {
   "cell_type": "markdown",
   "metadata": {},
   "source": [
    "___\n",
    "\n",
    "## III - Binary operations in programming\n",
    "\n",
    "> Because it is easy to understand, some langages offer operation on their binary representation. Let's see why\n",
    "\n",
    "<< operator for fast power of 2\n",
    "\n",
    "use of flags with | addition\n",
    "\n"
   ]
  },
  {
   "cell_type": "markdown",
   "metadata": {},
   "source": [
    "___\n",
    "\n",
    "## Conclusion\n",
    "\n",
    "Integers are really usefull and are used everywhere. Their easy-to use binary representation allows programmer to optimize bit and bits of their app, and their stability make them great for storing data with confidence. However, they lack by nature the precision offered by floating points which make them unsuited for many use cases. \n",
    "\n",
    "___\n",
    "\n",
    "## 📖 Sources\n",
    "\n",
    "### Books\n",
    "\n",
    "| Name | Author | Date |\n",
    "| --- | --- | --- |\n",
    "| [Game Engine Black Book](https://fabiensanglard.net/gebbdoom/) | Fabien Sanglard | 2018 |"
   ]
  },
  {
   "cell_type": "code",
   "execution_count": null,
   "metadata": {},
   "outputs": [],
   "source": []
  }
 ],
 "metadata": {
  "kernelspec": {
   "display_name": "Python 3",
   "language": "python",
   "name": "python3"
  },
  "language_info": {
   "codemirror_mode": {
    "name": "ipython",
    "version": 3
   },
   "file_extension": ".py",
   "mimetype": "text/x-python",
   "name": "python",
   "nbconvert_exporter": "python",
   "pygments_lexer": "ipython3",
   "version": "3.7.6"
  }
 },
 "nbformat": 4,
 "nbformat_minor": 4
}
