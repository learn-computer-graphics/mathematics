{
 "cells": [
  {
   "cell_type": "markdown",
   "metadata": {},
   "source": [
    "# Floating points\n",
    "\n",
    "> How they are stored inside computers, what are their limits and how to use them wisely\n",
    "\n",
    "## Notebook Setup\n"
   ]
  },
  {
   "cell_type": "code",
   "execution_count": null,
   "metadata": {},
   "outputs": [],
   "source": []
  },
  {
   "cell_type": "markdown",
   "metadata": {},
   "source": [
    "## Introduction\n",
    "\n",
    "Todo\n",
    "\n",
    "___\n",
    "\n",
    "## I - A bit of history\n",
    "\n",
    "> Todo\n",
    "\n",
    "### A - How floats became accessible\n",
    "\n",
    "Why it took time to be implemented by hardware\n",
    "\n",
    "### B - Early-days workarounds\n",
    "\n",
    "Non-hardware implementation\n",
    "\n",
    "Using integers\n",
    "\n",
    "Buying cards\n"
   ]
  },
  {
   "cell_type": "markdown",
   "metadata": {},
   "source": [
    "___\n",
    "\n",
    "## II - How it works\n",
    "\n",
    "> Todo\n",
    "\n",
    "### A - The general theory\n",
    "\n",
    "The interval, once put to decimal, -127, gives the first power of 2 value of the interval\n",
    "\n",
    "Sign (1) | Interval (E) | Offset (M)\n",
    "--- | --- | ---\n",
    "Positive or negative | Between [0,1], or [1,2], or [2,4], or [4,8], etc | Where the number lands within the interval\n",
    "\n",
    "\n",
    "<img  align=\"center\" src=\"floating-point-window.svg?raw=true\"/>\n",
    "\n",
    "\n",
    "### B - The IEEE 754 norm\n",
    "\n",
    "It is a 32 bits number.\n",
    "\n",
    "- 1 bit for the **sign** ($S$)\n",
    "- 8 bits for the **exponent** ($E$)\n",
    "- 23 bits for the **mantissa** ($M$)\n",
    "\n",
    "$$\n",
    "(-1)^S\\times1.M\\times2^{(E-127)}\n",
    "$$\n",
    "\n",
    "#### Number 1\n",
    "\n",
    "Sign (1) | Exponent (8) | Mantissa (23)\n",
    "--- | --- | ---\n",
    "0 | 0111 1111 | 0000 0000 0000 0000 0000 000\n",
    "Positive | 127 | 0\n",
    "\n",
    "$$ \n",
    "2^{127 - 127} = 2^0 \\\\\n",
    "x = 2^0 + 0 = 1\n",
    "$$\n",
    "\n",
    "#### Number 3.5\n",
    "\n",
    "Sign (1) | Exponent (8) | Mantissa (23)\n",
    "--- | --- | ---\n",
    "0 | 1000 0000 | 1100 0000 0000 0000 0000 000\n",
    "Positive | 128 | $ 2^0 + 2^{-1} $\n",
    "\n",
    "$$ \n",
    "2^{128 - 127} = 2^1 \\\\\n",
    "x = 2^1 + 2^0 + 2^{-1} = 3.5\n",
    "$$\n"
   ]
  },
  {
   "cell_type": "markdown",
   "metadata": {},
   "source": [
    "___\n",
    "\n",
    "## III - Limitations\n",
    "\n",
    "> Todo\n",
    "\n",
    "### A - Rounding errors\n",
    "\n",
    "Operations works better when dealing with number of the same sizes. If the step is too big, like adding 0.000000000001 with 100.2, you will have imprecision.\n",
    "\n",
    "Try to add the smaller elements first so that they grow bigger. Do your operations from smaller to bigger.\n",
    "\n",
    "Soustraction is the most dangerous operation for floats\n",
    "\n",
    "\n",
    "<img align=\"center\" src=\"floats-expressible.svg?raw=true\"/>\n",
    "\n",
    "### B - Comparison handling\n",
    "\n",
    "Do not use ==\n",
    "\n",
    "### C - Speed\n",
    "\n",
    "Use * instead of / (maybe not true anymore)\n"
   ]
  },
  {
   "cell_type": "markdown",
   "metadata": {},
   "source": [
    "___\n",
    "\n",
    "## Conclusion\n",
    "\n",
    "End this great journey and say thank you\n",
    "\n",
    "___\n",
    "\n",
    "## 📖 Sources\n",
    "\n",
    "### Websites\n",
    "\n",
    "| Name | Author | Date |\n",
    "| --- | --- | --- |\n",
    "| [What Every Computer Scientist Should Know About Floating-Point Arithmetic](https://docs.oracle.com/cd/E19957-01/806-3568/ncg_goldberg.html) | David Goldberg | 1991 |\n",
    "| [Floating point arithmetic](https://en.wikipedia.org/wiki/Floating-point_arithmetic) | Diverse (Wikipedia) | . |\n",
    "| [Floating point guide](https://floating-point-gui.de/) | Michael Borgwardt | 2010 |\n",
    "\n",
    "\n",
    "### Books\n",
    "\n",
    "| Name | Author | Date |\n",
    "| --- | --- | --- |\n",
    "| [Bame Engine Black Book](https://fabiensanglard.net/gebbdoom/) | Fabien Sanglard | 2018 |\n"
   ]
  },
  {
   "cell_type": "code",
   "execution_count": null,
   "metadata": {},
   "outputs": [],
   "source": []
  }
 ],
 "metadata": {
  "kernelspec": {
   "display_name": "Python 3",
   "language": "python",
   "name": "python3"
  },
  "language_info": {
   "codemirror_mode": {
    "name": "ipython",
    "version": 3
   },
   "file_extension": ".py",
   "mimetype": "text/x-python",
   "name": "python",
   "nbconvert_exporter": "python",
   "pygments_lexer": "ipython3",
   "version": "3.7.6"
  },
  "toc-autonumbering": false,
  "toc-showcode": false,
  "toc-showmarkdowntxt": false,
  "toc-showtags": false,
  "widgets": {
   "application/vnd.jupyter.widget-state+json": {
    "state": {},
    "version_major": 2,
    "version_minor": 0
   }
  }
 },
 "nbformat": 4,
 "nbformat_minor": 4
}