{
 "cells": [
  {
   "cell_type": "code",
   "execution_count": null,
   "metadata": {},
   "outputs": [],
   "source": [
    "# python libraries require for the notebook to work properly\n",
    "import numpy as np\n",
    "import math\n",
    "import matplotlib.pyplot as plt\n",
    "from mpl_toolkits.mplot3d import Axes3D\n",
    "\n",
    "plt.rcParams[\"figure.figsize\"] = (20,10)  # change default size for plotted figures"
   ]
  },
  {
   "cell_type": "code",
   "execution_count": null,
   "metadata": {},
   "outputs": [],
   "source": [
    "# libraries used to display interactive 3D curves\n",
    "\n",
    "#you need to install plotly chart-studio & pandas\n",
    "import plotly.graph_objects as go\n",
    "from plotly.offline import download_plotlyjs, init_notebook_mode, plot, iplot\n",
    "import plotly.express as px"
   ]
  },
  {
   "cell_type": "markdown",
   "metadata": {},
   "source": [
    "# Radial basis function interpolation\n",
    "\n",
    "## first of all, what is an interpolation ?\n",
    "\n",
    "Interpolation is a type of estimation, a method of constructing new data points knowing discrete set of $N$ data points $\\{x_i\\}^N_{i=1} \\in \\mathbb{R}^n$ and their measurements $\\{f_i\\}^N_{i=1} \\in \\mathbb{R}$ .\n",
    "\n",
    "we can also define that with a function $f:\\mathbb{R}^n\\rightarrow\\mathbb{R}$ which is evaluated at the respective points $\\{x_i\\}^N_{i=1}$.\n",
    "\n",
    "Interpolation differs from approximation, where approximation does not necessitate that our function exactly equals our measurements at our respective data points.\n",
    "\n",
    "When accuracy at data points is not needed, approximation will be preferred over interpolation. Interpolation condition may be undesirable because it forces the interpolation to match exactly with potential measurement error, where approximation may provide a nicer function that smooth error influence and illustrate measured correlations better.\n",
    "\n",
    "Our purpose here will be to use Radial basis function to create an interpolation function ($\\Psi:\\mathbb{R}^n\\rightarrow\\mathbb{R}$) that satisfy the interpolation condition below using a radial basis function ($\\phi:\\mathbb{R}\\rightarrow\\mathbb{R}$).\n",
    "\n",
    "Interpolation Condition:\n",
    "\n",
    "$$ \\Psi(x_i)=f_i \\quad/\\quad \\forall i \\in 1\\dots N $$"
   ]
  },
  {
   "cell_type": "markdown",
   "metadata": {},
   "source": [
    "## Our radial basis function\n",
    "\n",
    "A radial base function (RBF) is a $\\phi$ function whose value depends on the distance between the input $x$ and a point that can be either the origin, in this case $phi(x)=\\phi(\\|x\\|)$, or another fixed point $c$ , called the center, so that $\\phi(x)=\\phi(\\|x-c\\|)$.\n",
    "\n",
    "### Some common RBF :\n",
    "\n",
    "with $ {r=\\left\\|x\\right\\|}$ and $\\epsilon$ a parameter used to scale our output\n",
    "\n",
    "- <u>Gaussian</u> :\n",
    "$$ {\\Large \\phi(r)=e^{-(\\epsilon.r)^2}} $$\n",
    "\n",
    "- Multiquadric:\n",
    "$$ {\\Large \\phi (r)={\\sqrt {1+(\\epsilon.r)^2}}} $$\n",
    "\n",
    "- Inverse quadratic:\n",
    "$$ {\\Large \\phi (r)={\\dfrac {1}{1+(\\epsilon.r)^2}}} $$\n",
    "\n",
    "- Inverse multiquadric:\n",
    "$$ {\\Large \\phi (r)={\\dfrac {1}{\\sqrt {1+(\\epsilon.r)^2}}}} $$\n"
   ]
  },
  {
   "cell_type": "code",
   "execution_count": null,
   "metadata": {},
   "outputs": [],
   "source": [
    "e = 0.4 # epsilon\n",
    "\n",
    "# gaussian with \n",
    "def gaussian(x):\n",
    "    return np.exp(-e*x*x)\n",
    "\n",
    "# multiquadric\n",
    "def multiquadric(x):\n",
    "    return np.sqrt(1 + np.power(e*x,2))\n",
    "\n",
    "# inverse quadric\n",
    "def iQuadric(x):\n",
    "    return 1/(1 + np.power(e*x,2))\n",
    "\n",
    "# inverse multiquadric\n",
    "def iMultiquadric(x):\n",
    "    return 1/(np.sqrt(1 + np.power(e*x,2)))\n",
    "\n",
    "x = np.linspace(-5, 5, 400)\n",
    "r = np.absolute(x)\n",
    "\n",
    "plt.plot(x, gaussian(r), label = 'gaussian(x)' )\n",
    "plt.plot(x, multiquadric(r), label = 'multiquadric(x)' )\n",
    "plt.plot(x, iQuadric(r), label = 'iQuadric(x)' )\n",
    "plt.plot(x, iMultiquadric(r), label = 'iMultiquadric(x)' )\n",
    "\n",
    "plt.title(\"common radial basis functions\")\n",
    "plt.ylim(0, 1.5)\n",
    "plt.legend(loc=\"upper right\")\n",
    "plt.show()"
   ]
  },
  {
   "cell_type": "markdown",
   "metadata": {},
   "source": [
    "## Let's build our interpolation in $\\mathbb{R}$\n",
    "\n",
    "### first approach\n",
    "---\n",
    "we have $N$ points $\\{x_i\\}^N_{i=1}$ where $\\quad x_i \\in \\mathbb{R} \\quad \\forall i \\in 1\\dots N$\n",
    "\n",
    "To create our interpolation we can first think of using directly a product between our radial function $\\phi$ and our measurements $\\{f_i\\}^N_{i=1}$. This would respect the interpolation condition because when the value of any point is equal to one of our known points then the distance $\\|x-x_i\\|$ is zero and our radial function is equal to 1.\n",
    "\n",
    "$$ \\Psi(x) = \\sum^N_{i=1} f_i.\\phi(\\|x-x_i\\|)$$ \n",
    "\n",
    "\n",
    "This works really well when the number N of known points is equal to 1.\n",
    "\n",
    "Here an exemple with $x_1= 1$ and $f_1 = 2$ using gaussian RBF"
   ]
  },
  {
   "cell_type": "code",
   "execution_count": null,
   "metadata": {},
   "outputs": [],
   "source": [
    "#Euclidean norm in R\n",
    "def norm(x1, x2):\n",
    "    return np.abs(x1 - x2)\n",
    "\n",
    "x1 = 1\n",
    "f1 = 2\n",
    "\n",
    "def psi(x):\n",
    "    return f1*gaussian(norm(x, x1))\n",
    "\n",
    "plt.plot(x, psi(x), '-b', label = 'interpolation function')\n",
    "plt.plot(x1, f1, 'or', label = 'known point')\n",
    "\n",
    "plt.title('first approach')\n",
    "plt.legend(loc='upper right')\n",
    "plt.show()"
   ]
  },
  {
   "cell_type": "markdown",
   "metadata": {},
   "source": [
    "But of course, for several known points, the condition $ \\Psi(x_i)=f_i \\;/\\; \\forall i \\in 1\\dots N $ is no longer respected since the values of the points are summed up as shown in the figure below.\n",
    "\n",
    "with $f(0) = 1$ & $f(2) = 0.8$"
   ]
  },
  {
   "cell_type": "code",
   "execution_count": null,
   "metadata": {},
   "outputs": [],
   "source": [
    "xi = np.array([0, 2])\n",
    "fi = np.array([1, 0.8])\n",
    "\n",
    "def psi(x, rbf, norm, xi, fi):\n",
    "    psi = 0\n",
    "    for i in range(xi.size):\n",
    "        psi += fi[i]*rbf(norm(x, xi[i]))\n",
    "    return psi\n",
    "\n",
    "# vectorize our function to be used on an array of data instead of a single x value\n",
    "vectorizedPsi = np.vectorize(psi)\n",
    "# exclude the other parameters so that only parameter x is vectorized \n",
    "vectorizedPsi.excluded.update([1, 2, 3, 4])\n",
    "\n",
    "# psi could also be written using a comprehension list without vectorization like this\n",
    "# def psi(x, rbf, norm, xi, fi):\n",
    "#     return [ np.sum([fi_*rbf(norm(x_, xi_)) for xi_, fi_ in zip(xi, fi)]) for x_ in x]\n",
    "\n",
    "plt.plot(x, vectorizedPsi(x, gaussian, norm, xi, fi), '-b', label = 'interpolation function')\n",
    "plt.plot(xi, fi, 'or', label = 'known points')\n",
    "\n",
    "plt.title('first approach')\n",
    "plt.legend(loc='upper right')\n",
    "plt.show()"
   ]
  },
  {
   "cell_type": "markdown",
   "metadata": {},
   "source": [
    "### Find our right interpolation\n",
    "---\n",
    "\n",
    "We will continue to use the assumption that our interpolation function ($\\Psi:\\mathbb{R}\\rightarrow\\mathbb{R}$) can be found by a linear combination of radial functions while satisfying the following interpolation condition :\n",
    "\n",
    "$$ \\Psi(x_i)=f_i \\quad/\\quad \\forall i \\in 1\\dots N $$\n",
    "\n",
    "let's write the new form of our interpolation function :\n",
    "\n",
    "$$ \\Psi(x) = \\sum^N_{i=1}  \\omega_i.\\phi(\\|x-x_i\\|)$$\n",
    "\n",
    "\n",
    "$$\\fbox{ the $\\omega_i$ are still unknown and we will have to determine them}$$\n",
    "\n",
    "We have N constraints on the $\\omega_i$ :\n",
    "\n",
    "$$ \\sum^N_{i=1} \\omega_k.\\phi(\\|x_k-x_i\\|) = f_k \\quad \\forall k \\in 1\\dots N $$\n",
    "\n",
    "We can write this system of equations using a matrix as follows :\n",
    "\n",
    "$$\n",
    "\\begin{bmatrix}\n",
    "\\phi(\\|x_1-x_1\\|) & \\phi(\\|x_1-x_2\\|) & \\phi(\\|x_1-x_3\\|) & \\dots & \\phi(\\|x_1-x_N\\|) \\\\\n",
    "\\phi(\\|x_2-x_1\\|) & \\phi(\\|x_2-x_2\\|) & \\phi(\\|x_2-x_3\\|) & \\dots & \\phi(\\|x_2-x_N\\|) \\\\\n",
    "\\dots  & \\dots  & \\dots  & \\dots & \\dots  \\\\\n",
    "\\phi(\\|x_N-x_1\\|) & \\phi(\\|x_N-x_2\\|) & \\phi(\\|x_N-x_3\\|) & \\dots & \\phi(\\|x_N-x_N\\|) \\\\\n",
    "\\end{bmatrix}\n",
    "\\begin{pmatrix}\n",
    "\\omega_1 \\\\ \\omega_2 \\\\ \\dots \\\\ \\omega_N\n",
    "\\end{pmatrix}\n",
    "=\n",
    "\\begin{pmatrix} \n",
    "f_1 \\\\ f_2 \\\\ \\dots \\\\ f_N\n",
    "\\end{pmatrix}\n",
    "$$\n",
    "\n",
    "We can therefore define a linear system which is expressed as follows:\n",
    "\n",
    "$$ M.\\omega = \\mathbf{f}$$\n",
    "\n",
    "\n",
    "By using numerical methods and solving this linear system, we found our omega used in our interpolation function.\n",
    "\n",
    "$$ \\Rightarrow \\omega = \n",
    "\\begin{pmatrix}\n",
    "\\omega_1 \\\\ \\omega_2 \\\\ \\dots \\\\ \\omega_N\n",
    "\\end{pmatrix}\n",
    "=  M^{-1}.\\mathbf{f}$$\n",
    "\n",
    "---\n",
    "$${\\Large\\text{Let's see an example}}$$\n",
    "---"
   ]
  },
  {
   "cell_type": "code",
   "execution_count": null,
   "metadata": {
    "scrolled": false
   },
   "outputs": [],
   "source": [
    "def computeOmega(xi, fi, rbf, norm):\n",
    "    size = len(xi)\n",
    "    M = np.zeros((size, size))\n",
    "    for i in range(size):\n",
    "        for j in range(size):\n",
    "            M[i, j] = rbf(norm(xi[i], xi[j]))\n",
    "            \n",
    "    return np.linalg.solve(M, fi)\n",
    "\n",
    "# define our interpolation using list comprehension\n",
    "def psi(x, rbf, norm, xi, fi):\n",
    "    wi = computeOmega(xi, fi, rbf, norm)\n",
    "    return [ np.sum([wi_*rbf(norm(x_, xi_)) for xi_, wi_ in zip(xi, wi)]) for x_ in x]"
   ]
  },
  {
   "cell_type": "code",
   "execution_count": null,
   "metadata": {},
   "outputs": [],
   "source": [
    "# define our known points and their measurements\n",
    "xi = np.array([0, 1.2, -2, -1])\n",
    "fi = np.array([1, 0.95, 0, 0.1])\n",
    "\n",
    "plt.plot(x, psi(x, gaussian, norm, xi, fi), '-b', label = 'gaussian interpolation')\n",
    "plt.plot(x, psi(x, iQuadric, norm, xi, fi), '-c', label = 'inverse quadric interpolation')\n",
    "plt.plot(x, psi(x, iMultiquadric, norm, xi, fi), '-y', label = 'inverse Multiquadric interpolation')\n",
    "plt.plot(xi, fi, 'or', label = 'known points')\n",
    "\n",
    "plt.title('Radial basis function interpolation')\n",
    "plt.legend(loc='upper right')\n",
    "plt.show()"
   ]
  },
  {
   "cell_type": "markdown",
   "metadata": {},
   "source": [
    "### And in N dimensions so ? ($\\mathbb{R}^n$)\n",
    "---\n",
    "\n",
    "In n dimensions it is the same thinking  with the only difference that our $x_i$ are in $\\mathbb{R}^n$\n",
    "\n",
    "$$ \\{x_i\\}^N_{i=1} \\in \\mathbb{R}^n $$\n",
    "\n",
    "The norm used to measure the distance between two points in a space of dimension N must be adapted. \n",
    "\n",
    "We note $\\vec{x}$ as a vector $(x_{1},\\dots ,x_{n}) \\in \\mathbb{R}^n$\n",
    "\n",
    "For example,  **the Euclidean** norm defined by :\n",
    "\n",
    "$$  \\|\\vec{x}\\|_2 = \\sqrt {|x_1^2|+\\ldots +|x_n^2|} $$ \n",
    "\n",
    "We can also use other ways to measure a distance as with **the Manhattan distance** defined as follows:\n",
    "\n",
    "$$  \\|\\vec{x}\\|_1 = |x_1|+\\ldots +|x_n| $$\n",
    "\n",
    "more generally, for any $p \\geq 1$, the **norm p** is given by the following formula :\n",
    "\n",
    "$$  \\|\\vec{x}\\|_p = \\left(|x_1|^p+\\ldots +|x_n|^p\\right)^{\\frac{1}{p}} $$"
   ]
  },
  {
   "cell_type": "markdown",
   "metadata": {},
   "source": [
    "### Exemple in  $\\mathbb{R}^2$\n",
    "---"
   ]
  },
  {
   "cell_type": "code",
   "execution_count": null,
   "metadata": {
    "scrolled": false
   },
   "outputs": [],
   "source": [
    "def euclideanNorm(a, b):\n",
    "    return np.sqrt(np.sum((a - b) ** 2))\n",
    "\n",
    "def ManhattanDist(a, b):\n",
    "    return np.sum(np.abs(a - b))\n",
    "\n",
    "def pNorm(a, b, p):\n",
    "    return np.pow(np.sum((a - b) ** p), 1/p)"
   ]
  },
  {
   "cell_type": "code",
   "execution_count": null,
   "metadata": {},
   "outputs": [],
   "source": [
    "def generateSurfacePoints(minBound, maxBound, res):\n",
    "    linspace = np.linspace(minBound, maxBound, res)\n",
    "    # meshgrid makes N-D coordinate arrays for vectorized evaluations of N-D scalar/vector\n",
    "    # used here to genere points on 2D grid\n",
    "    X, Y = np.meshgrid(linspace, linspace)\n",
    "    # np.dstack : function that converts the coordinates into the following shape: (2D grid)\n",
    "    # [ [[p11.x, p11.y], [p12.x, p12.y], [p13.x, 13.y]],\n",
    "    #   [[p21.x, p21.y], [p22.x, p22.y], [p23.x, 23.y]], ...]\n",
    "    temp = np.dstack((X,Y))\n",
    "    return X, Y, temp.reshape(-1,temp.shape[2]), linspace"
   ]
  },
  {
   "cell_type": "code",
   "execution_count": null,
   "metadata": {
    "scrolled": false
   },
   "outputs": [],
   "source": [
    "# define our known points and their measurements\n",
    "xi = np.array([[0,0], [2,2], [-4,5], [-3,-3], [7,-6]])\n",
    "fi = np.array([1, 2, 0.7, 3, -2])\n",
    "\n",
    "fig = plt.figure()\n",
    "ax = plt.axes(projection='3d') # define our 3D plot\n",
    "\n",
    "X, Y, x2D, sideLinspace = generateSurfacePoints(-10, 10, 200)\n",
    "\n",
    "# Our values are stored in a simple 1D array\n",
    "interpolatedValues = np.array(psi(x2D, gaussian, euclideanNorm, xi, fi))\n",
    "\n",
    "# they must be converted into a 2D array of values to display them with plot_surface\n",
    "tempSize = math.floor(math.sqrt(len(interpolatedValues)))\n",
    "convertedValues = interpolatedValues.reshape(tempSize, tempSize)\n",
    "\n",
    "ax.scatter(xi[:, 0], xi[:, 1], fi, c='r', marker='o')\n",
    "ax.plot_surface(X, Y, convertedValues, cmap='viridis', edgecolor='none',  alpha=0.8)\n",
    "\n",
    "ax.view_init(60, 30) # rotate  our graph\n",
    "plt.show()"
   ]
  },
  {
   "cell_type": "markdown",
   "metadata": {},
   "source": [
    "---\n",
    "# BONUS\n",
    "using plotly for dynamic 3D plot\n",
    "\n",
    "---"
   ]
  },
  {
   "cell_type": "code",
   "execution_count": null,
   "metadata": {},
   "outputs": [],
   "source": [
    "# allows you to draw a surface with plotly\n",
    "def drawSurface(t, _x, _y, _z):\n",
    "    layout = go.Layout( margin = dict( l=0, r=0, b=0, t=0 ))\n",
    "    fig = go.Figure(data=[go.Surface(z=_z, x=_x, y=_y, opacity=0.8)], layout=layout)\n",
    "    fig.update_layout(scene_aspectmode='data')\n",
    "    fig.update_layout(title=t, autosize=True)\n",
    "    return fig\n",
    "\n",
    "# allows to draw points in space with plotly (on an existing figure passed as arguments)\n",
    "def drawPts(fig, pts, u):\n",
    "    fig.add_trace(go.Scatter3d(x=pts[:,0], y=pts[:,1], z=u, mode='markers'))\n",
    "    return fig"
   ]
  },
  {
   "cell_type": "code",
   "execution_count": null,
   "metadata": {
    "scrolled": false
   },
   "outputs": [],
   "source": [
    "# You need to install plotly to see these figures\n",
    "fig = drawSurface('',sideLinspace, sideLinspace, convertedValues)\n",
    "fig = drawPts(fig, xi, fi)\n",
    "fig.show()"
   ]
  },
  {
   "cell_type": "markdown",
   "metadata": {},
   "source": [
    "---\n",
    "# Just For Fun\n",
    "with **inverse Quadric** radial basis function and **Manhattan Distance** as norm\n",
    "\n",
    "---"
   ]
  },
  {
   "cell_type": "code",
   "execution_count": null,
   "metadata": {},
   "outputs": [],
   "source": [
    "\n",
    "interpolatedValues = np.array(psi(x2D, iQuadric, ManhattanDist, xi, fi))\n",
    "\n",
    "tempSize = math.floor(math.sqrt(len(interpolatedValues)))\n",
    "convertedValues = interpolatedValues.reshape(tempSize, tempSize)\n",
    "\n",
    "fig = drawSurface('',sideLinspace, sideLinspace, convertedValues)\n",
    "fig = drawPts(fig, xi, fi)\n",
    "fig.show()"
   ]
  }
 ],
 "metadata": {
  "kernelspec": {
   "display_name": "Python 3",
   "language": "python",
   "name": "python3"
  },
  "language_info": {
   "codemirror_mode": {
    "name": "ipython",
    "version": 3
   },
   "file_extension": ".py",
   "mimetype": "text/x-python",
   "name": "python",
   "nbconvert_exporter": "python",
   "pygments_lexer": "ipython3",
   "version": "3.7.5"
  }
 },
 "nbformat": 4,
 "nbformat_minor": 2
}
