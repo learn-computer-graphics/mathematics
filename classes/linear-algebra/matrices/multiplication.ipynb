{
 "cells": [
  {
   "cell_type": "markdown",
   "metadata": {},
   "source": [
    "# Matrices multiplication algorithms\n",
    "\n",
    "> What are the multiple ways to compute a matrix product\n",
    "\n",
    "## Naive\n",
    "\n",
    "The time complexity is $O(n^3)$\n"
   ]
  },
  {
   "cell_type": "code",
   "execution_count": 4,
   "metadata": {},
   "outputs": [
    {
     "name": "stdout",
     "output_type": "stream",
     "text": [
      "[[12, 18], [27, 42], [42, 66], [57, 90]]\n",
      "[[12 18]\n",
      " [27 42]\n",
      " [42 66]\n",
      " [57 90]]\n"
     ]
    }
   ],
   "source": [
    "def matrixmult (A, B):\n",
    "    rows_A = len(A)\n",
    "    cols_A = len(A[0])\n",
    "    rows_B = len(B)\n",
    "    cols_B = len(B[0])\n",
    "\n",
    "    if cols_A != rows_B:\n",
    "      print(\"Cannot multiply the two matrices. Incorrect dimensions.\")\n",
    "      return\n",
    "\n",
    "    C = [[0 for row in range(cols_B)] for col in range(rows_A)]\n",
    "    for i in range(rows_A):\n",
    "        for j in range(cols_B):\n",
    "            for k in range(cols_A):\n",
    "                C[i][j] += A[i][k] * B[k][j]\n",
    "    return C\n",
    "\n",
    "# Check function\n",
    "x = [[1,2,3],[4,5,6],[7,8,9],[10,11,12]]\n",
    "y = [[1,2],[1,2],[3,4]]\n",
    "print(matrixmult(x, y))\n",
    "\n",
    "# Check with numpy\n",
    "import numpy as np\n",
    "mx = np.matrix(x)\n",
    "my = np.matrix(y)    \n",
    "print(mx * my)\n"
   ]
  },
  {
   "cell_type": "markdown",
   "metadata": {},
   "source": [
    "## Strassen\n",
    "\n",
    "The time complexity is $O(n^{2.807})$, but the result is less stable than the Naive way.\n",
    "\n",
    "## Available Sources\n",
    "\n",
    "### Websites\n",
    "\n",
    "| Name | Authors | Date\n",
    "| --- | --- | --- |\n",
    "| [Strassen Algorithm](https://en.wikipedia.org/wiki/Strassen_algorithm) | Multiple (Wikipedia) | . |"
   ]
  },
  {
   "cell_type": "code",
   "execution_count": null,
   "metadata": {},
   "outputs": [],
   "source": []
  }
 ],
 "metadata": {
  "file_extension": ".py",
  "kernelspec": {
   "display_name": "Python 3",
   "language": "python",
   "name": "python3"
  },
  "language_info": {
   "codemirror_mode": {
    "name": "ipython",
    "version": 3
   },
   "file_extension": ".py",
   "mimetype": "text/x-python",
   "name": "python",
   "nbconvert_exporter": "python",
   "pygments_lexer": "ipython3",
   "version": "3.7.4"
  },
  "mimetype": "text/x-python",
  "name": "python",
  "npconvert_exporter": "python",
  "pygments_lexer": "ipython3",
  "version": 3
 },
 "nbformat": 4,
 "nbformat_minor": 2
}
