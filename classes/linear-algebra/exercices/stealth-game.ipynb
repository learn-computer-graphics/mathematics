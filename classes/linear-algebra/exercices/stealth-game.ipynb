{
 "cells": [
  {
   "cell_type": "markdown",
   "metadata": {},
   "source": [
    "# Stealth games mechanics\n",
    "\n",
    "> Show how linear algebra can be used to support basic stealth gameplay\n",
    "\n",
    "## Notebook Setup"
   ]
  },
  {
   "cell_type": "code",
   "execution_count": 1,
   "metadata": {},
   "outputs": [],
   "source": [
    "from IPython.display import IFrame"
   ]
  },
  {
   "cell_type": "markdown",
   "metadata": {},
   "source": [
    "## Introduction\n",
    "\n",
    "We will see in the following exercices checks about distances, line of sight and some trigonometry.\n",
    "\n",
    "Code exercices are made with the <a href=\"https://p5js.org/\" target=\"_blank\">P5.js</a> library.\n",
    "\n",
    "## Questions\n",
    "\n",
    "### I - Is player in front or behind ?\n",
    "\n",
    "You have a character at position `p` with a forward direction `v`\n",
    "\n",
    "1) How can you determine if a given position `x` is in front or behind of the character ?\n",
    "2) Implement your solution in the file `st-01.html` under the \"WRITE CODE HERE\" comment. If you are correct, your code should behave as the sample below"
   ]
  },
  {
   "cell_type": "code",
   "execution_count": 2,
   "metadata": {},
   "outputs": [
    {
     "data": {
      "text/html": [
       "\n",
       "        <iframe\n",
       "            width=\"700\"\n",
       "            height=\"400\"\n",
       "            src=\"./awnsers/st-01.html\"\n",
       "            frameborder=\"0\"\n",
       "            allowfullscreen\n",
       "            \n",
       "        ></iframe>\n",
       "        "
      ],
      "text/plain": [
       "<IPython.lib.display.IFrame at 0x1bc45e5ce50>"
      ]
     },
     "execution_count": 2,
     "metadata": {},
     "output_type": "execute_result"
    }
   ],
   "source": [
    "IFrame(\"./awnsers/st-01.html\", width=700, height=400)"
   ]
  },
  {
   "cell_type": "markdown",
   "metadata": {},
   "source": [
    "____\n",
    "\n",
    "## Awnsers\n",
    "\n",
    "### I Is player in front or behind ?\n",
    "\n",
    "*Wip*\n",
    "\n"
   ]
  }
 ],
 "metadata": {
  "kernelspec": {
   "display_name": "Python 3 (ipykernel)",
   "language": "python",
   "name": "python3"
  },
  "language_info": {
   "codemirror_mode": {
    "name": "ipython",
    "version": 3
   },
   "file_extension": ".py",
   "mimetype": "text/x-python",
   "name": "python",
   "nbconvert_exporter": "python",
   "pygments_lexer": "ipython3",
   "version": "3.11.1"
  },
  "widgets": {
   "application/vnd.jupyter.widget-state+json": {
    "state": {},
    "version_major": 2,
    "version_minor": 0
   }
  }
 },
 "nbformat": 4,
 "nbformat_minor": 4
}
