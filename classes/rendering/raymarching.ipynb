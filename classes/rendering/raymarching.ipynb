{
 "cells": [
  {
   "cell_type": "markdown",
   "metadata": {},
   "source": [
    "https://github.com/electricsquare/raymarching-workshop\n",
    "\n",
    "http://viclw17.github.io/2018/11/29/raymarching-algorithm/\n",
    "\n",
    "https://adrianb.io/2016/10/01/raymarching.html\n",
    "\n",
    "http://jamie-wong.com/2016/07/15/ray-marching-signed-distance-functions/\n",
    "\n",
    "https://medium.com/@ArmstrongCS/raymarching-1-the-basics-d6f3e70fb430\n",
    "    \n",
    "claybook game https://www.youtube.com/watch?v=Xpf7Ua3UqOA\n",
    "\n",
    "Unreal volume modelling plugin https://www.youtube.com/watch?v=CWzPP5FAYAg\n",
    "\n",
    "Unreal custom material node https://www.youtube.com/watch?v=HaUAfgrZjlU\n",
    "\n",
    "Unreal custom node blob https://www.youtube.com/watch?v=grmZ0I5-CgA\n",
    "\n",
    "https://shaderbits.com/blog/creating-volumetric-ray-marcher\n",
    "\n",
    "https://siver.artstation.com/blog/NDjb/houdini-blog-17-clouds\n",
    "\n",
    "https://iquilezles.org/www/articles/distfunctions/distfunctions.htm\n",
    "\n",
    "Coding adventure raymarching : https://www.youtube.com/watch?v=Cp5WWtMoeKg\n",
    "\n",
    "Fluid ninja pluggin for Unreal : https://www.youtube.com/watch?v=TUk4sytRpfA\n",
    "\n",
    "Ray marching toolkit for unity : https://kev.town/raymarching-toolkit/\n",
    "\n",
    "Inigo Quilez\n",
    "\n",
    "Limitation: Do not change the shape of the object it is applied to. Is it possible to triangulate the result and export it as a new mesh ?"
   ]
  },
  {
   "cell_type": "markdown",
   "metadata": {},
   "source": []
  }
 ],
 "metadata": {
  "kernelspec": {
   "display_name": "Python 3",
   "language": "python",
   "name": "python3"
  },
  "language_info": {
   "codemirror_mode": {
    "name": "ipython",
    "version": 3
   },
   "file_extension": ".py",
   "mimetype": "text/x-python",
   "name": "python",
   "nbconvert_exporter": "python",
   "pygments_lexer": "ipython3",
   "version": "3.7.6"
  },
  "widgets": {
   "application/vnd.jupyter.widget-state+json": {
    "state": {},
    "version_major": 2,
    "version_minor": 0
   }
  }
 },
 "nbformat": 4,
 "nbformat_minor": 4
}
