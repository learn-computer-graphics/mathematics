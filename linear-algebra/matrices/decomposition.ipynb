{
 "cells": [
  {
   "cell_type": "markdown",
   "metadata": {},
   "source": [
    "# Matrix Decomposition\n",
    "\n",
    "> Is the process of getting a matrix decomposed into other matrices. We can get the matrix back by multiplying the results together. This is useful to get the inverse of a matrix, and thus, to solve linear system of equations.\n",
    "\n",
    "___\n",
    "\n",
    "## LU\n",
    "\n",
    "The algorithm is similar to Gauss Inversion, but instead of one, we get two matrices : one **Lower** triangular, one **Upper** triangular. Given a Matrix $M$, LU only works if $det(M) \\neq 0$.\n",
    "\n",
    "___\n",
    "\n",
    "## QR\n",
    "\n",
    "___\n",
    "\n",
    "## Cholesky\n",
    "\n",
    "___\n",
    "\n",
    "## SVD\n",
    "\n",
    "___\n",
    "\n",
    "## Summary\n",
    "\n",
    "| Name | Constraints | Speed | Precision | Rank |\n",
    "| --- | --- | :--- | :--- | --- |\n",
    "| LU half | Regular Matrix | ++ | + | . |\n",
    "| LU total | . | - | +++ | Yes |\n",
    "| QR Householder | . | ++ | + | . |\n",
    "| QR half | . | + | ++ | Yes |\n",
    "| QR total | . | - | +++ | Yes |\n",
    "| Cholesky | Symetry > 0 | ++++ | + | . |\n",
    "| SVD | . | - | ++++ | Yes |\n",
    "\n",
    "___\n",
    "\n",
    "## Available sources\n",
    "\n",
    "### Websites\n",
    "\n",
    "| Name | Authors |\n",
    "| --- | --- |\n",
    "| [Matrix Decomposition](https://en.wikipedia.org/wiki/Matrix_decomposition) | Multiple (Wikipedia) |\n"
   ]
  },
  {
   "cell_type": "code",
   "execution_count": null,
   "metadata": {},
   "outputs": [],
   "source": []
  }
 ],
 "metadata": {
  "file_extension": ".py",
  "kernelspec": {
   "display_name": "Python 3",
   "language": "python",
   "name": "python3"
  },
  "language_info": {
   "codemirror_mode": {
    "name": "ipython",
    "version": 3
   },
   "file_extension": ".py",
   "mimetype": "text/x-python",
   "name": "python",
   "nbconvert_exporter": "python",
   "pygments_lexer": "ipython3",
   "version": "3.7.4"
  },
  "mimetype": "text/x-python",
  "name": "python",
  "npconvert_exporter": "python",
  "pygments_lexer": "ipython3",
  "version": 3
 },
 "nbformat": 4,
 "nbformat_minor": 2
}
