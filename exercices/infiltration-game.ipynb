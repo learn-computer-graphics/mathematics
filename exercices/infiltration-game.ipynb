{
 "cells": [
  {
   "cell_type": "code",
   "execution_count": 1,
   "metadata": {},
   "outputs": [
    {
     "data": {
      "application/vnd.jupyter.widget-view+json": {
       "model_id": "893bd081e66441b2907af13d8fc50705",
       "version_major": 2,
       "version_minor": 0
      },
      "text/plain": [
       "Sketch(value=\"\\n    const [W, H] = [400, 400];\\n    p.setup = function () {\\n      p.createCanvas(W, H);\\n    …"
      ]
     },
     "metadata": {},
     "output_type": "display_data"
    }
   ],
   "source": [
    "from ipyp5 import Sketch\n",
    "w = Sketch()\n",
    "w.value = \"\"\"\n",
    "    const [W, H] = [400, 400];\n",
    "    p.setup = function () {\n",
    "      p.createCanvas(W, H);\n",
    "      p.rectMode(p.CENTER);\n",
    "    }\n",
    "\n",
    "    p.draw = function () {\n",
    "      p.background('#ddd');\n",
    "      p.translate(200, 200);\n",
    "      for (let i = 0; i < 4; i++) {\n",
    "        p.push();\n",
    "        p.rotate(p.frameCount / 200 * (i + 1));\n",
    "        p.fill(i * 5, i * 100, i * 150);\n",
    "        p.rect(0, 0, 200, 200);\n",
    "        p.pop();\n",
    "      }\n",
    "    }\n",
    "\"\"\"\n",
    "w"
   ]
  },
  {
   "cell_type": "code",
   "execution_count": null,
   "metadata": {},
   "outputs": [],
   "source": []
  }
 ],
 "metadata": {
  "kernelspec": {
   "display_name": "Python 3",
   "language": "python",
   "name": "python3"
  },
  "language_info": {
   "codemirror_mode": {
    "name": "ipython",
    "version": 3
   },
   "file_extension": ".py",
   "mimetype": "text/x-python",
   "name": "python",
   "nbconvert_exporter": "python",
   "pygments_lexer": "ipython3",
   "version": "3.7.1"
  }
 },
 "nbformat": 4,
 "nbformat_minor": 2
}
