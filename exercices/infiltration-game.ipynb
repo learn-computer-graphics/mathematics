{
 "cells": [
  {
   "cell_type": "code",
   "execution_count": 3,
   "metadata": {
    "scrolled": false
   },
   "outputs": [
    {
     "data": {
      "text/html": [
       "\n",
       "<canvas id=\"myCanvas\"></canvas> \n",
       "<script type=\"text/javascript\" src=\"processing.min.js\"></script> \n",
       "<script type=\"text/javascript\">\n",
       "  var processingCode = `// On VSCode, run with ctrl + shift + B\n",
       "\n",
       "int i = 0;\n",
       "\n",
       "void setup() {\n",
       "    size(400, 300);\n",
       "    ellipse(100, 100, 50, 50);\n",
       "    colorMode(HSB);\n",
       "}\n",
       "\n",
       "void draw() {\n",
       "    i++;\n",
       "    fill(255 * sin(i / 240.0) * sin(i / 240.0), 200, 175, 50);\n",
       "    ellipse(200, 200, 50, 50);\n",
       "}\n",
       "`;\n",
       "  var myCanvas = document.getElementById(\"myCanvas\");\n",
       "  var jsCode = Processing.compile(processingCode);\n",
       "  var processingInstance = new Processing(myCanvas, jsCode);\n",
       "</script>\n"
      ],
      "text/plain": [
       "<IPython.core.display.HTML object>"
      ]
     },
     "execution_count": 3,
     "metadata": {},
     "output_type": "execute_result"
    }
   ],
   "source": [
    "from IPython.display import HTML\n",
    "import os\n",
    "\n",
    "# Prey for me\n",
    "\n",
    "html_template = \"\"\"\n",
    "<canvas id=\"myCanvas\"></canvas> \n",
    "<script type=\"text/javascript\" src=\"processing.min.js\"></script> \n",
    "<script type=\"text/javascript\">\n",
    "  var processingCode = `{}`;\n",
    "  var myCanvas = document.getElementById(\"myCanvas\");\n",
    "  var jsCode = Processing.compile(processingCode);\n",
    "  var processingInstance = new Processing(myCanvas, jsCode);\n",
    "</script>\n",
    "\"\"\"\n",
    "\n",
    "filepath = \"Processing\\Infiltration\\Infiltration.pde\"\n",
    "fd = os.open(filepath , os.O_RDONLY)\n",
    "n = os.path.getsize(filepath)\n",
    "readBytes = os.read(fd, n).decode(\"utf-8\")\n",
    "os.close(fd)\n",
    "\n",
    "html_code = html_template.format(readBytes)\n",
    "HTML(html_code)"
   ]
  },
  {
   "cell_type": "code",
   "execution_count": null,
   "metadata": {},
   "outputs": [],
   "source": []
  }
 ],
 "metadata": {
  "kernelspec": {
   "display_name": "Python 3",
   "language": "python",
   "name": "python3"
  },
  "language_info": {
   "codemirror_mode": {
    "name": "ipython",
    "version": 3
   },
   "file_extension": ".py",
   "mimetype": "text/x-python",
   "name": "python",
   "nbconvert_exporter": "python",
   "pygments_lexer": "ipython3",
   "version": "3.7.6"
  },
  "widgets": {
   "application/vnd.jupyter.widget-state+json": {
    "state": {},
    "version_major": 2,
    "version_minor": 0
   }
  }
 },
 "nbformat": 4,
 "nbformat_minor": 4
}
